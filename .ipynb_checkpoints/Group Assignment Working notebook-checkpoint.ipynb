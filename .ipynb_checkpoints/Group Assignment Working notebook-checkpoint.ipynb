{
 "cells": [
  {
   "cell_type": "code",
   "execution_count": 2,
   "metadata": {},
   "outputs": [],
   "source": [
    "import pandas as pd\n",
    "import numpy as np\n",
    "from sklearn.model_selection import train_test_split\n",
    "from sklearn import linear_model\n",
    "from sklearn.metrics import r2_score\n",
    "from functools import reduce\n",
    "import seaborn as sns\n",
    "import matplotlib.pylab as plt\n",
    "from sklearn.model_selection import train_test_split\n",
    "%matplotlib inline"
   ]
  },
  {
   "cell_type": "markdown",
   "metadata": {},
   "source": [
    "going to import all 5 data files and attempt to clean them."
   ]
  },
  {
   "cell_type": "markdown",
   "metadata": {},
   "source": [
    "## Clean Ancestry\n",
    "\n",
    "the goal here is to have a dataframe with a single column, proportion of western european responses"
   ]
  },
  {
   "cell_type": "code",
   "execution_count": 3,
   "metadata": {
    "scrolled": true
   },
   "outputs": [
    {
     "data": {
      "text/html": [
       "<div>\n",
       "<style scoped>\n",
       "    .dataframe tbody tr th:only-of-type {\n",
       "        vertical-align: middle;\n",
       "    }\n",
       "\n",
       "    .dataframe tbody tr th {\n",
       "        vertical-align: top;\n",
       "    }\n",
       "\n",
       "    .dataframe thead th {\n",
       "        text-align: right;\n",
       "    }\n",
       "</style>\n",
       "<table border=\"1\" class=\"dataframe\">\n",
       "  <thead>\n",
       "    <tr style=\"text-align: right;\">\n",
       "      <th></th>\n",
       "      <th>Name</th>\n",
       "      <th>Proportion</th>\n",
       "    </tr>\n",
       "  </thead>\n",
       "  <tbody>\n",
       "    <tr>\n",
       "      <td>0</td>\n",
       "      <td>Albury</td>\n",
       "      <td>0.561347</td>\n",
       "    </tr>\n",
       "    <tr>\n",
       "      <td>1</td>\n",
       "      <td>Auburn</td>\n",
       "      <td>0.102925</td>\n",
       "    </tr>\n",
       "    <tr>\n",
       "      <td>2</td>\n",
       "      <td>Ballina</td>\n",
       "      <td>0.580751</td>\n",
       "    </tr>\n",
       "    <tr>\n",
       "      <td>3</td>\n",
       "      <td>Balmain</td>\n",
       "      <td>0.473518</td>\n",
       "    </tr>\n",
       "    <tr>\n",
       "      <td>4</td>\n",
       "      <td>Bankstown</td>\n",
       "      <td>0.131282</td>\n",
       "    </tr>\n",
       "  </tbody>\n",
       "</table>\n",
       "</div>"
      ],
      "text/plain": [
       "        Name  Proportion\n",
       "0     Albury    0.561347\n",
       "1     Auburn    0.102925\n",
       "2    Ballina    0.580751\n",
       "3    Balmain    0.473518\n",
       "4  Bankstown    0.131282"
      ]
     },
     "execution_count": 3,
     "metadata": {},
     "output_type": "execute_result"
    }
   ],
   "source": [
    "Ancestry=pd.read_csv('Unclean Data/Ancestry 1st Response - Unclean.csv')\n",
    "Ancestry = Ancestry.drop(columns=\"Unnamed: 13\")\n",
    "Ancestry = Ancestry.drop(columns=\"Unnamed: 14\")\n",
    "Ancestry = Ancestry.drop(Ancestry.index[95])\n",
    "Ancestry['NewEuropean'] = Ancestry['North-West European'].str.replace(',', '')\n",
    "Ancestry['NewEuropean'] = Ancestry['NewEuropean'].astype(int)\n",
    "Ancestry['Total'] = Ancestry['Total'].str.replace(',', '')\n",
    "Ancestry['Total'] = Ancestry['Total'].astype(int)\n",
    "Ancestry['Proportion'] = Ancestry['NewEuropean']/Ancestry['Total']\n",
    "Ancestry=Ancestry.drop(['Oceanian','North-West European','Southern and Eastern European','North African and Middle Eastern','South-East Asian','North-East Asian','Southern and Central Asian','Peoples of the Americas','Sub-Saharan African','Supplementary codes','Not stated','Total','NewEuropean'],axis=1)\n",
    "Ancestry = Ancestry.drop([93,94],axis=0)\n",
    "Ancestry.head()"
   ]
  },
  {
   "cell_type": "code",
   "execution_count": 4,
   "metadata": {},
   "outputs": [],
   "source": [
    "Ancestry.to_csv('Clean Data/CleanAncestry.csv')"
   ]
  },
  {
   "cell_type": "code",
   "execution_count": 5,
   "metadata": {},
   "outputs": [
    {
     "data": {
      "text/html": [
       "<div>\n",
       "<style scoped>\n",
       "    .dataframe tbody tr th:only-of-type {\n",
       "        vertical-align: middle;\n",
       "    }\n",
       "\n",
       "    .dataframe tbody tr th {\n",
       "        vertical-align: top;\n",
       "    }\n",
       "\n",
       "    .dataframe thead th {\n",
       "        text-align: right;\n",
       "    }\n",
       "</style>\n",
       "<table border=\"1\" class=\"dataframe\">\n",
       "  <thead>\n",
       "    <tr style=\"text-align: right;\">\n",
       "      <th></th>\n",
       "      <th>Name</th>\n",
       "      <th>Fed_AnceProportion</th>\n",
       "    </tr>\n",
       "  </thead>\n",
       "  <tbody>\n",
       "    <tr>\n",
       "      <td>1</td>\n",
       "      <td>Banks</td>\n",
       "      <td>0.273465</td>\n",
       "    </tr>\n",
       "    <tr>\n",
       "      <td>2</td>\n",
       "      <td>Barton</td>\n",
       "      <td>0.180501</td>\n",
       "    </tr>\n",
       "    <tr>\n",
       "      <td>3</td>\n",
       "      <td>Bennelong</td>\n",
       "      <td>0.265087</td>\n",
       "    </tr>\n",
       "    <tr>\n",
       "      <td>4</td>\n",
       "      <td>Berowra</td>\n",
       "      <td>0.435631</td>\n",
       "    </tr>\n",
       "    <tr>\n",
       "      <td>5</td>\n",
       "      <td>Blaxland</td>\n",
       "      <td>0.123276</td>\n",
       "    </tr>\n",
       "  </tbody>\n",
       "</table>\n",
       "</div>"
      ],
      "text/plain": [
       "        Name  Fed_AnceProportion\n",
       "1      Banks            0.273465\n",
       "2     Barton            0.180501\n",
       "3  Bennelong            0.265087\n",
       "4    Berowra            0.435631\n",
       "5   Blaxland            0.123276"
      ]
     },
     "execution_count": 5,
     "metadata": {},
     "output_type": "execute_result"
    }
   ],
   "source": [
    "FedAncestry=pd.read_csv('Unclean Data/FedelecsAncestryUnclean.csv',thousands=',')\n",
    "FedAncestry = FedAncestry.drop(FedAncestry.index[48])\n",
    "FedAncestry['Proportion'] = FedAncestry['North-West European']/FedAncestry['Total']\n",
    "FedAncestry = FedAncestry.drop(FedAncestry.index[0])\n",
    "FedAncestry=FedAncestry.drop(['Oceanian','North-West European','Southern and Eastern European','North African and Middle Eastern','South-East Asian','North-East Asian','Southern and Central Asian','Peoples of the Americas','Sub-Saharan African','Supplementary codes','Not stated','Total'],axis=1)\n",
    "FedAncestry['Name'] = FedAncestry['Unnamed: 0']\n",
    "FedAncestry=FedAncestry.drop(['Unnamed: 0'],axis=1)\n",
    "\n",
    "columnsTitles=[\"Name\",\"Proportion\"]\n",
    "FedAncestry=FedAncestry.reindex(columns=columnsTitles)\n",
    "FedAncestry.rename(columns={'Proportion': 'Fed_AnceProportion'}, inplace=True)\n",
    "FedAncestry.head()"
   ]
  },
  {
   "cell_type": "code",
   "execution_count": 6,
   "metadata": {},
   "outputs": [],
   "source": [
    "FedAncestry.to_csv('Clean Data/CleanFedAncestry.csv')"
   ]
  },
  {
   "cell_type": "markdown",
   "metadata": {},
   "source": [
    "## Age\n",
    "the plan here to give us a single average age that very closely approximates to average age, we will approximate 0-9 years as 5, 10-19 as 15, etc and take the average, sum of count*agebracket divided by total\n",
    "\n",
    "first, commas must be removed from our strings of data then converted to int\n",
    "\n",
    "update- through research, it seems we can specify commas as equalling thousands in pandas saving a lot of time\n",
    "\n",
    "after that, i will replace each column with their supertotal (for 0-9 years, 5*0-9years , for 10-19, 15*10-19, etc)"
   ]
  },
  {
   "cell_type": "code",
   "execution_count": 7,
   "metadata": {},
   "outputs": [
    {
     "data": {
      "text/html": [
       "<div>\n",
       "<style scoped>\n",
       "    .dataframe tbody tr th:only-of-type {\n",
       "        vertical-align: middle;\n",
       "    }\n",
       "\n",
       "    .dataframe tbody tr th {\n",
       "        vertical-align: top;\n",
       "    }\n",
       "\n",
       "    .dataframe thead th {\n",
       "        text-align: right;\n",
       "    }\n",
       "</style>\n",
       "<table border=\"1\" class=\"dataframe\">\n",
       "  <thead>\n",
       "    <tr style=\"text-align: right;\">\n",
       "      <th></th>\n",
       "      <th>Name</th>\n",
       "      <th>Average</th>\n",
       "    </tr>\n",
       "  </thead>\n",
       "  <tbody>\n",
       "    <tr>\n",
       "      <td>0</td>\n",
       "      <td>Albury</td>\n",
       "      <td>41.462241</td>\n",
       "    </tr>\n",
       "    <tr>\n",
       "      <td>1</td>\n",
       "      <td>Auburn</td>\n",
       "      <td>34.877516</td>\n",
       "    </tr>\n",
       "    <tr>\n",
       "      <td>2</td>\n",
       "      <td>Ballina</td>\n",
       "      <td>44.227358</td>\n",
       "    </tr>\n",
       "    <tr>\n",
       "      <td>3</td>\n",
       "      <td>Balmain</td>\n",
       "      <td>37.889434</td>\n",
       "    </tr>\n",
       "    <tr>\n",
       "      <td>4</td>\n",
       "      <td>Bankstown</td>\n",
       "      <td>36.483350</td>\n",
       "    </tr>\n",
       "  </tbody>\n",
       "</table>\n",
       "</div>"
      ],
      "text/plain": [
       "        Name    Average\n",
       "0     Albury  41.462241\n",
       "1     Auburn  34.877516\n",
       "2    Ballina  44.227358\n",
       "3    Balmain  37.889434\n",
       "4  Bankstown  36.483350"
      ]
     },
     "execution_count": 7,
     "metadata": {},
     "output_type": "execute_result"
    }
   ],
   "source": [
    "Age=pd.read_csv('Unclean Data/Average Age - Unclean.csv',thousands=',')\n",
    "Age['0-9 years'] = 5*Age['0-9 years']\n",
    "Age['10-19 years'] = 15*Age['10-19 years']\n",
    "Age['20-29 years'] = 25*Age['20-29 years']\n",
    "Age['30-39 years'] = 35*Age['30-39 years']\n",
    "Age['40-49 years'] = 45*Age['40-49 years']\n",
    "Age['50-59 years'] = 55*Age['50-59 years']\n",
    "Age['60-69 years'] = 65*Age['60-69 years']\n",
    "Age['70-79 years'] = 75*Age['70-79 years']\n",
    "Age['80-89 years'] = 85*Age['80-89 years']\n",
    "Age['90-99 years'] = 95*Age['90-99 years']\n",
    "Age['100 years and over'] = 105*Age['100 years and over']\n",
    "Age['supertotal']= Age['0-9 years'] + Age['10-19 years'] + Age['20-29 years'] + Age['30-39 years'] + Age['40-49 years'] + Age['50-59 years'] + Age['60-69 years'] + Age['70-79 years'] + Age['80-89 years'] + Age['90-99 years'] + Age['100 years and over']\n",
    "Age['Average']= Age['supertotal']/Age['Total']\n",
    "Age = Age.drop(['0-9 years','10-19 years','20-29 years','30-39 years','40-49 years','50-59 years','60-69 years','70-79 years','80-89 years','90-99 years','100 years and over','Total','supertotal'],axis=1)\n",
    "Age = Age.drop([93,94,95],axis=0)\n",
    "Age.to_csv('Clean Data/AverageAge')\n",
    "Age.head()"
   ]
  },
  {
   "cell_type": "code",
   "execution_count": 8,
   "metadata": {},
   "outputs": [
    {
     "data": {
      "text/html": [
       "<div>\n",
       "<style scoped>\n",
       "    .dataframe tbody tr th:only-of-type {\n",
       "        vertical-align: middle;\n",
       "    }\n",
       "\n",
       "    .dataframe tbody tr th {\n",
       "        vertical-align: top;\n",
       "    }\n",
       "\n",
       "    .dataframe thead th {\n",
       "        text-align: right;\n",
       "    }\n",
       "</style>\n",
       "<table border=\"1\" class=\"dataframe\">\n",
       "  <thead>\n",
       "    <tr style=\"text-align: right;\">\n",
       "      <th></th>\n",
       "      <th>Name</th>\n",
       "      <th>Fed_AgeAverage</th>\n",
       "    </tr>\n",
       "  </thead>\n",
       "  <tbody>\n",
       "    <tr>\n",
       "      <td>1</td>\n",
       "      <td>Banks</td>\n",
       "      <td>39.867943</td>\n",
       "    </tr>\n",
       "    <tr>\n",
       "      <td>2</td>\n",
       "      <td>Barton</td>\n",
       "      <td>38.589805</td>\n",
       "    </tr>\n",
       "    <tr>\n",
       "      <td>3</td>\n",
       "      <td>Bennelong</td>\n",
       "      <td>38.849113</td>\n",
       "    </tr>\n",
       "    <tr>\n",
       "      <td>4</td>\n",
       "      <td>Berowra</td>\n",
       "      <td>40.472466</td>\n",
       "    </tr>\n",
       "    <tr>\n",
       "      <td>5</td>\n",
       "      <td>Blaxland</td>\n",
       "      <td>35.997921</td>\n",
       "    </tr>\n",
       "  </tbody>\n",
       "</table>\n",
       "</div>"
      ],
      "text/plain": [
       "        Name  Fed_AgeAverage\n",
       "1      Banks       39.867943\n",
       "2     Barton       38.589805\n",
       "3  Bennelong       38.849113\n",
       "4    Berowra       40.472466\n",
       "5   Blaxland       35.997921"
      ]
     },
     "execution_count": 8,
     "metadata": {},
     "output_type": "execute_result"
    }
   ],
   "source": [
    "FedAge=pd.read_csv('Unclean Data/FedelecsAverageAgeUnclean.csv',thousands=',')\n",
    "FedAge['0-9 years'] = 5*FedAge['0-9 years']\n",
    "FedAge['10-19 years'] = 15*FedAge['10-19 years']\n",
    "FedAge['20-29 years'] = 25*FedAge['20-29 years']\n",
    "FedAge['30-39 years'] = 35*FedAge['30-39 years']\n",
    "FedAge['40-49 years'] = 45*FedAge['40-49 years']\n",
    "FedAge['50-59 years'] = 55*FedAge['50-59 years']\n",
    "FedAge['60-69 years'] = 65*FedAge['60-69 years']\n",
    "FedAge['70-79 years'] = 75*FedAge['70-79 years']\n",
    "FedAge['80-89 years'] = 85*FedAge['80-89 years']\n",
    "FedAge['90-99 years'] = 95*FedAge['90-99 years']\n",
    "FedAge['100 years and over'] = 105*FedAge['100 years and over']\n",
    "FedAge['supertotal']= FedAge['0-9 years'] + FedAge['10-19 years'] + FedAge['20-29 years'] + FedAge['30-39 years'] + FedAge['40-49 years'] + FedAge['50-59 years'] + FedAge['60-69 years'] + FedAge['70-79 years'] + FedAge['80-89 years'] + FedAge['90-99 years'] + FedAge['100 years and over']\n",
    "FedAge['Average']= FedAge['supertotal']/FedAge['Total']\n",
    "FedAge = FedAge.drop(['0-9 years','10-19 years','20-29 years','30-39 years','40-49 years','50-59 years','60-69 years','70-79 years','80-89 years','90-99 years','100 years and over','Total','supertotal'],axis=1)\n",
    "FedAge = FedAge.drop(Age.index[0])\n",
    "FedAge.rename(columns={'Unnamed: 0':'Name',\n",
    "                       'Average': 'Fed_AgeAverage'}, inplace=True)\n",
    "FedAge.head()"
   ]
  },
  {
   "cell_type": "code",
   "execution_count": 9,
   "metadata": {},
   "outputs": [],
   "source": [
    "FedAge.to_csv('Clean Data/FedAverageAge.csv')"
   ]
  },
  {
   "cell_type": "markdown",
   "metadata": {},
   "source": [
    "## Education\n",
    "\n",
    "our education value will be the proportion of the population that has completed high school (year 12)\n",
    "because we learned of the thousands feature in read csv, this data will be very easy to clean"
   ]
  },
  {
   "cell_type": "code",
   "execution_count": 10,
   "metadata": {},
   "outputs": [
    {
     "data": {
      "text/html": [
       "<div>\n",
       "<style scoped>\n",
       "    .dataframe tbody tr th:only-of-type {\n",
       "        vertical-align: middle;\n",
       "    }\n",
       "\n",
       "    .dataframe tbody tr th {\n",
       "        vertical-align: top;\n",
       "    }\n",
       "\n",
       "    .dataframe thead th {\n",
       "        text-align: right;\n",
       "    }\n",
       "</style>\n",
       "<table border=\"1\" class=\"dataframe\">\n",
       "  <thead>\n",
       "    <tr style=\"text-align: right;\">\n",
       "      <th></th>\n",
       "      <th>Name</th>\n",
       "      <th>Proportion</th>\n",
       "    </tr>\n",
       "  </thead>\n",
       "  <tbody>\n",
       "    <tr>\n",
       "      <td>0</td>\n",
       "      <td>Albury</td>\n",
       "      <td>0.306550</td>\n",
       "    </tr>\n",
       "    <tr>\n",
       "      <td>1</td>\n",
       "      <td>Auburn</td>\n",
       "      <td>0.490746</td>\n",
       "    </tr>\n",
       "    <tr>\n",
       "      <td>2</td>\n",
       "      <td>Ballina</td>\n",
       "      <td>0.379375</td>\n",
       "    </tr>\n",
       "    <tr>\n",
       "      <td>3</td>\n",
       "      <td>Balmain</td>\n",
       "      <td>0.620436</td>\n",
       "    </tr>\n",
       "    <tr>\n",
       "      <td>4</td>\n",
       "      <td>Bankstown</td>\n",
       "      <td>0.409595</td>\n",
       "    </tr>\n",
       "  </tbody>\n",
       "</table>\n",
       "</div>"
      ],
      "text/plain": [
       "        Name  Proportion\n",
       "0     Albury    0.306550\n",
       "1     Auburn    0.490746\n",
       "2    Ballina    0.379375\n",
       "3    Balmain    0.620436\n",
       "4  Bankstown    0.409595"
      ]
     },
     "execution_count": 10,
     "metadata": {},
     "output_type": "execute_result"
    }
   ],
   "source": [
    "Education=pd.read_csv('Unclean Data/Education - Unclean.csv',thousands=',')\n",
    "Education['Proportion']=Education['Year 12 or equivalent']/Education['Total']\n",
    "Education=Education.drop(['Year 12 or equivalent','Year 11 or equivalent','Year 10 or equivalent','Year 9 or equivalent','Year 8 or below','Did not go to school','Not stated','Not applicable','Total'],axis=1)\n",
    "Education = Education.drop([93,94,95],axis=0)\n",
    "Education.head()"
   ]
  },
  {
   "cell_type": "code",
   "execution_count": 11,
   "metadata": {},
   "outputs": [],
   "source": [
    "Education.to_csv('Clean Data/Education.csv')"
   ]
  },
  {
   "cell_type": "code",
   "execution_count": 12,
   "metadata": {},
   "outputs": [
    {
     "data": {
      "text/html": [
       "<div>\n",
       "<style scoped>\n",
       "    .dataframe tbody tr th:only-of-type {\n",
       "        vertical-align: middle;\n",
       "    }\n",
       "\n",
       "    .dataframe tbody tr th {\n",
       "        vertical-align: top;\n",
       "    }\n",
       "\n",
       "    .dataframe thead th {\n",
       "        text-align: right;\n",
       "    }\n",
       "</style>\n",
       "<table border=\"1\" class=\"dataframe\">\n",
       "  <thead>\n",
       "    <tr style=\"text-align: right;\">\n",
       "      <th></th>\n",
       "      <th>Name</th>\n",
       "      <th>Fed_EduProportion</th>\n",
       "    </tr>\n",
       "  </thead>\n",
       "  <tbody>\n",
       "    <tr>\n",
       "      <td>1</td>\n",
       "      <td>Banks</td>\n",
       "      <td>0.493383</td>\n",
       "    </tr>\n",
       "    <tr>\n",
       "      <td>2</td>\n",
       "      <td>Barton</td>\n",
       "      <td>0.537483</td>\n",
       "    </tr>\n",
       "    <tr>\n",
       "      <td>3</td>\n",
       "      <td>Bennelong</td>\n",
       "      <td>0.598456</td>\n",
       "    </tr>\n",
       "    <tr>\n",
       "      <td>4</td>\n",
       "      <td>Berowra</td>\n",
       "      <td>0.532653</td>\n",
       "    </tr>\n",
       "    <tr>\n",
       "      <td>5</td>\n",
       "      <td>Blaxland</td>\n",
       "      <td>0.427016</td>\n",
       "    </tr>\n",
       "  </tbody>\n",
       "</table>\n",
       "</div>"
      ],
      "text/plain": [
       "        Name  Fed_EduProportion\n",
       "1      Banks           0.493383\n",
       "2     Barton           0.537483\n",
       "3  Bennelong           0.598456\n",
       "4    Berowra           0.532653\n",
       "5   Blaxland           0.427016"
      ]
     },
     "execution_count": 12,
     "metadata": {},
     "output_type": "execute_result"
    }
   ],
   "source": [
    "FedEducation=pd.read_csv('Unclean Data/FedelecsEducationUnclean.csv',thousands=',')\n",
    "FedEducation['Proportion']=FedEducation['Year 12 or equivalent']/FedEducation['Total']\n",
    "FedEducation=FedEducation.drop(['Year 12 or equivalent','Year 11 or equivalent','Year 10 or equivalent','Year 9 or equivalent','Year 8 or below','Did not go to school','Not stated','Not applicable','Total'],axis=1)\n",
    "FedEducation=FedEducation.drop(FedEducation.index[0])\n",
    "FedEducation=FedEducation.drop([48,49,50])\n",
    "FedEducation.rename(columns={'District':'Name',\n",
    "                       'Proportion': 'Fed_EduProportion'}, inplace=True)\n",
    "FedEducation.head()"
   ]
  },
  {
   "cell_type": "code",
   "execution_count": 13,
   "metadata": {},
   "outputs": [],
   "source": [
    "FedEducation.to_csv('Clean Data/CleanFedEducation.csv')"
   ]
  },
  {
   "cell_type": "markdown",
   "metadata": {},
   "source": [
    "## Number of children\n",
    "\n",
    "Number of children will be cleaned similarly to average age, except we needn't times every amount by the average of their range, just how many children they've had, including no children by 0 (or more simply, excluding no children entirely)\n",
    "\n",
    "Children['one child'] also does not need to be edited\n"
   ]
  },
  {
   "cell_type": "code",
   "execution_count": 14,
   "metadata": {},
   "outputs": [
    {
     "data": {
      "text/html": [
       "<div>\n",
       "<style scoped>\n",
       "    .dataframe tbody tr th:only-of-type {\n",
       "        vertical-align: middle;\n",
       "    }\n",
       "\n",
       "    .dataframe tbody tr th {\n",
       "        vertical-align: top;\n",
       "    }\n",
       "\n",
       "    .dataframe thead th {\n",
       "        text-align: right;\n",
       "    }\n",
       "</style>\n",
       "<table border=\"1\" class=\"dataframe\">\n",
       "  <thead>\n",
       "    <tr style=\"text-align: right;\">\n",
       "      <th></th>\n",
       "      <th>Name</th>\n",
       "      <th>Average</th>\n",
       "    </tr>\n",
       "  </thead>\n",
       "  <tbody>\n",
       "    <tr>\n",
       "      <td>0</td>\n",
       "      <td>Albury</td>\n",
       "      <td>1.957339</td>\n",
       "    </tr>\n",
       "    <tr>\n",
       "      <td>1</td>\n",
       "      <td>Auburn</td>\n",
       "      <td>1.503916</td>\n",
       "    </tr>\n",
       "    <tr>\n",
       "      <td>2</td>\n",
       "      <td>Ballina</td>\n",
       "      <td>1.780289</td>\n",
       "    </tr>\n",
       "    <tr>\n",
       "      <td>3</td>\n",
       "      <td>Balmain</td>\n",
       "      <td>0.916856</td>\n",
       "    </tr>\n",
       "    <tr>\n",
       "      <td>4</td>\n",
       "      <td>Bankstown</td>\n",
       "      <td>1.800435</td>\n",
       "    </tr>\n",
       "  </tbody>\n",
       "</table>\n",
       "</div>"
      ],
      "text/plain": [
       "        Name   Average\n",
       "0     Albury  1.957339\n",
       "1     Auburn  1.503916\n",
       "2    Ballina  1.780289\n",
       "3    Balmain  0.916856\n",
       "4  Bankstown  1.800435"
      ]
     },
     "execution_count": 14,
     "metadata": {},
     "output_type": "execute_result"
    }
   ],
   "source": [
    "Children=pd.read_csv('Unclean Data/Number of Children ever born - Unclean.csv',thousands = ',')\n",
    "Children['Two children']= 2*Children['Two children']\n",
    "Children['Three children']= 3*Children['Three children']\n",
    "Children['Four children']= 4*Children['Four children']\n",
    "Children['Five children']= 5*Children['Five children']\n",
    "Children['Six children']= 6*Children['Six children']\n",
    "Children['Seven children']= 7*Children['Seven children']\n",
    "Children['Eight or more children']= 8*Children['Eight or more children']\n",
    "Children['Supertotal']=Children['One child']+Children['Two children']+Children['Three children']+Children['Four children']+Children['Five children']+Children['Six children']+Children['Seven children']+Children['Eight or more children']\n",
    "Children['Average']=Children['Supertotal']/Children['Total']\n",
    "Children=Children.drop(['No children','One child','Two children','Three children','Four children','Five children','Six children','Seven children','Eight or more children','Total','Supertotal'],axis=1)\n",
    "Children=Children.drop([93,94,95], axis=0)\n",
    "Children.head()"
   ]
  },
  {
   "cell_type": "code",
   "execution_count": 15,
   "metadata": {},
   "outputs": [],
   "source": [
    "Children.to_csv('Clean Data/AverageChildren.csv')"
   ]
  },
  {
   "cell_type": "code",
   "execution_count": 16,
   "metadata": {},
   "outputs": [
    {
     "data": {
      "text/html": [
       "<div>\n",
       "<style scoped>\n",
       "    .dataframe tbody tr th:only-of-type {\n",
       "        vertical-align: middle;\n",
       "    }\n",
       "\n",
       "    .dataframe tbody tr th {\n",
       "        vertical-align: top;\n",
       "    }\n",
       "\n",
       "    .dataframe thead th {\n",
       "        text-align: right;\n",
       "    }\n",
       "</style>\n",
       "<table border=\"1\" class=\"dataframe\">\n",
       "  <thead>\n",
       "    <tr style=\"text-align: right;\">\n",
       "      <th></th>\n",
       "      <th>Name</th>\n",
       "      <th>Fed_ChildAverage</th>\n",
       "    </tr>\n",
       "  </thead>\n",
       "  <tbody>\n",
       "    <tr>\n",
       "      <td>1</td>\n",
       "      <td>Banks</td>\n",
       "      <td>0.606615</td>\n",
       "    </tr>\n",
       "    <tr>\n",
       "      <td>2</td>\n",
       "      <td>Barton</td>\n",
       "      <td>0.506451</td>\n",
       "    </tr>\n",
       "    <tr>\n",
       "      <td>3</td>\n",
       "      <td>Bennelong</td>\n",
       "      <td>0.527665</td>\n",
       "    </tr>\n",
       "    <tr>\n",
       "      <td>4</td>\n",
       "      <td>Berowra</td>\n",
       "      <td>0.658470</td>\n",
       "    </tr>\n",
       "    <tr>\n",
       "      <td>5</td>\n",
       "      <td>Blaxland</td>\n",
       "      <td>0.617867</td>\n",
       "    </tr>\n",
       "  </tbody>\n",
       "</table>\n",
       "</div>"
      ],
      "text/plain": [
       "        Name  Fed_ChildAverage\n",
       "1      Banks          0.606615\n",
       "2     Barton          0.506451\n",
       "3  Bennelong          0.527665\n",
       "4    Berowra          0.658470\n",
       "5   Blaxland          0.617867"
      ]
     },
     "execution_count": 16,
     "metadata": {},
     "output_type": "execute_result"
    }
   ],
   "source": [
    "FedChildren=pd.read_csv('Unclean Data/FedelectsChildrenUnclean.csv',thousands = ',')\n",
    "FedChildren['Two children']= 2*FedChildren['Two children']\n",
    "FedChildren['Three children']= 3*FedChildren['Three children']\n",
    "FedChildren['Four children']= 4*FedChildren['Four children']\n",
    "FedChildren['Five children']= 5*FedChildren['Five children']\n",
    "FedChildren['Six children']= 6*FedChildren['Six children']\n",
    "FedChildren['Seven children']= 7*FedChildren['Seven children']\n",
    "FedChildren['Eight or more children']= 8*FedChildren['Eight or more children']\n",
    "FedChildren['Supertotal']=FedChildren['One child']+FedChildren['Two children']+FedChildren['Three children']+FedChildren['Four children']+FedChildren['Five children']+FedChildren['Six children']+FedChildren['Seven children']+FedChildren['Eight or more children']\n",
    "FedChildren['Average']=FedChildren['Supertotal']/FedChildren['Total']\n",
    "FedChildren=FedChildren.drop(['No children','One child','Two children','Three children','Four children','Five children','Six children','Seven children','Eight or more children','Total','Supertotal','Not stated','Not applicable'],axis=1)\n",
    "FedChildren=FedChildren.drop([0])\n",
    "FedChildren=FedChildren.drop([48,49,50])\n",
    "FedChildren.rename(columns={'District':'Name',\n",
    "                       'Average': 'Fed_ChildAverage'}, inplace=True)\n",
    "FedChildren.head()"
   ]
  },
  {
   "cell_type": "code",
   "execution_count": 17,
   "metadata": {},
   "outputs": [],
   "source": [
    "FedChildren.to_csv('Clean Data/CleanFedAverageChildren.csv')"
   ]
  },
  {
   "cell_type": "markdown",
   "metadata": {},
   "source": [
    "## Average weekly income\n",
    "\n",
    "for weekly income, we will perform this exactly how we performed counting average age, and use the average of each bracket times the number of respondents under it. this may be a little skewed, but it will be very very close and should result in the same error for all subjects due to the large numbers used in this, we will divide by 100 during the multiplication (ie, the average of 1-149 will be 75/100 = 0.75). additionally, to save some time typing i will be making new, shorter named brackets to count my supertotal.\n",
    "\n",
    "due to the abysmal column names of this data i am going to manually edit our csv files to make the columns easier to use"
   ]
  },
  {
   "cell_type": "code",
   "execution_count": 18,
   "metadata": {},
   "outputs": [
    {
     "data": {
      "text/html": [
       "<div>\n",
       "<style scoped>\n",
       "    .dataframe tbody tr th:only-of-type {\n",
       "        vertical-align: middle;\n",
       "    }\n",
       "\n",
       "    .dataframe tbody tr th {\n",
       "        vertical-align: top;\n",
       "    }\n",
       "\n",
       "    .dataframe thead th {\n",
       "        text-align: right;\n",
       "    }\n",
       "</style>\n",
       "<table border=\"1\" class=\"dataframe\">\n",
       "  <thead>\n",
       "    <tr style=\"text-align: right;\">\n",
       "      <th></th>\n",
       "      <th>Name</th>\n",
       "      <th>Average</th>\n",
       "    </tr>\n",
       "  </thead>\n",
       "  <tbody>\n",
       "    <tr>\n",
       "      <td>0</td>\n",
       "      <td>Albury</td>\n",
       "      <td>787.124060</td>\n",
       "    </tr>\n",
       "    <tr>\n",
       "      <td>1</td>\n",
       "      <td>Auburn</td>\n",
       "      <td>690.836679</td>\n",
       "    </tr>\n",
       "    <tr>\n",
       "      <td>2</td>\n",
       "      <td>Ballina</td>\n",
       "      <td>789.434557</td>\n",
       "    </tr>\n",
       "    <tr>\n",
       "      <td>3</td>\n",
       "      <td>Balmain</td>\n",
       "      <td>1282.443970</td>\n",
       "    </tr>\n",
       "    <tr>\n",
       "      <td>4</td>\n",
       "      <td>Bankstown</td>\n",
       "      <td>630.460980</td>\n",
       "    </tr>\n",
       "  </tbody>\n",
       "</table>\n",
       "</div>"
      ],
      "text/plain": [
       "        Name      Average\n",
       "0     Albury   787.124060\n",
       "1     Auburn   690.836679\n",
       "2    Ballina   789.434557\n",
       "3    Balmain  1282.443970\n",
       "4  Bankstown   630.460980"
      ]
     },
     "execution_count": 18,
     "metadata": {},
     "output_type": "execute_result"
    }
   ],
   "source": [
    "Income=pd.read_csv('Unclean Data/Weekly income - Unclean.csv',thousands = ',')\n",
    "Income['75 Bracket']=0.75*Income['75 Bracket']\n",
    "Income['225 Bracket']=2.25*Income['225 Bracket']\n",
    "Income['350 Bracket']=3.50*Income['350 Bracket']\n",
    "Income['450 Bracket']=4.50*Income['450 Bracket']\n",
    "Income['575 Bracket']=5.75*Income['575 Bracket']\n",
    "Income['725 Bracket']=7.25*Income['725 Bracket']\n",
    "Income['900 Bracket']=9.00*Income['900 Bracket']\n",
    "Income['1125 Bracket']=11.25*Income['1125 Bracket']\n",
    "Income['1375 Bracket']=13.75*Income['1375 Bracket']\n",
    "Income['1625 Bracket']=16.25*Income['1625 Bracket']\n",
    "Income['1875 Bracket']=18.75*Income['1875 Bracket']\n",
    "Income['2500 Bracket']=25.00*Income['2500 Bracket']\n",
    "Income['3000 Bracket']=30.00*Income['3000 Bracket']\n",
    "Income['Supertotal']=Income['75 Bracket']+Income['225 Bracket']+Income['350 Bracket']+Income['450 Bracket']+Income['575 Bracket']+Income['725 Bracket']+Income['900 Bracket']+Income['1125 Bracket']+Income['1375 Bracket']+Income['1625 Bracket']+Income['1875 Bracket']+Income['2500 Bracket']+Income['3000 Bracket']\n",
    "Income['Average']=Income['Supertotal']/Income['Total']\n",
    "Income['Average']=Income['Average']*100\n",
    "Income=Income.drop(['Nil income','75 Bracket','225 Bracket','350 Bracket','450 Bracket','575 Bracket','725 Bracket','900 Bracket','1125 Bracket','1375 Bracket','1625 Bracket','1875 Bracket','2500 Bracket','3000 Bracket','Total','Supertotal'],axis=1)\n",
    "Income=Income.drop([93,94,95], axis=0)\n",
    "Income.head()"
   ]
  },
  {
   "cell_type": "code",
   "execution_count": 19,
   "metadata": {},
   "outputs": [],
   "source": [
    "Income.to_csv('Clean Data/AverageIncome.csv')"
   ]
  },
  {
   "cell_type": "code",
   "execution_count": 20,
   "metadata": {},
   "outputs": [
    {
     "data": {
      "text/html": [
       "<div>\n",
       "<style scoped>\n",
       "    .dataframe tbody tr th:only-of-type {\n",
       "        vertical-align: middle;\n",
       "    }\n",
       "\n",
       "    .dataframe tbody tr th {\n",
       "        vertical-align: top;\n",
       "    }\n",
       "\n",
       "    .dataframe thead th {\n",
       "        text-align: right;\n",
       "    }\n",
       "</style>\n",
       "<table border=\"1\" class=\"dataframe\">\n",
       "  <thead>\n",
       "    <tr style=\"text-align: right;\">\n",
       "      <th></th>\n",
       "      <th>Name</th>\n",
       "      <th>Fed_IncAverage</th>\n",
       "    </tr>\n",
       "  </thead>\n",
       "  <tbody>\n",
       "    <tr>\n",
       "      <td>1</td>\n",
       "      <td>Banks</td>\n",
       "      <td>646.439758</td>\n",
       "    </tr>\n",
       "    <tr>\n",
       "      <td>2</td>\n",
       "      <td>Barton</td>\n",
       "      <td>631.405046</td>\n",
       "    </tr>\n",
       "    <tr>\n",
       "      <td>3</td>\n",
       "      <td>Bennelong</td>\n",
       "      <td>736.573384</td>\n",
       "    </tr>\n",
       "    <tr>\n",
       "      <td>4</td>\n",
       "      <td>Berowra</td>\n",
       "      <td>793.820798</td>\n",
       "    </tr>\n",
       "    <tr>\n",
       "      <td>5</td>\n",
       "      <td>Blaxland</td>\n",
       "      <td>446.488922</td>\n",
       "    </tr>\n",
       "  </tbody>\n",
       "</table>\n",
       "</div>"
      ],
      "text/plain": [
       "        Name  Fed_IncAverage\n",
       "1      Banks      646.439758\n",
       "2     Barton      631.405046\n",
       "3  Bennelong      736.573384\n",
       "4    Berowra      793.820798\n",
       "5   Blaxland      446.488922"
      ]
     },
     "execution_count": 20,
     "metadata": {},
     "output_type": "execute_result"
    }
   ],
   "source": [
    "FedIncome=pd.read_csv('Unclean Data/FedelecsIncomeUnclean.csv',thousands = ',')\n",
    "FedIncome['75 Bracket']=0.75*FedIncome['75 Bracket']\n",
    "FedIncome['225 Bracket']=2.25*FedIncome['225 Bracket']\n",
    "FedIncome['350 Bracket']=3.50*FedIncome['350 Bracket']\n",
    "FedIncome['450 Bracket']=4.50*FedIncome['450 Bracket']\n",
    "FedIncome['575 Bracket']=5.75*FedIncome['575 Bracket']\n",
    "FedIncome['725 Bracket']=7.25*FedIncome['725 Bracket']\n",
    "FedIncome['900 Bracket']=9.00*FedIncome['900 Bracket']\n",
    "FedIncome['1125 Bracket']=11.25*FedIncome['1125 Bracket']\n",
    "FedIncome['1375 Bracket']=13.75*FedIncome['1375 Bracket']\n",
    "FedIncome['1625 Bracket']=16.25*FedIncome['1625 Bracket']\n",
    "FedIncome['1875 Bracket']=18.75*FedIncome['1875 Bracket']\n",
    "FedIncome['2500 Bracket']=25.00*FedIncome['2500 Bracket']\n",
    "FedIncome['3000 Bracket']=30.00*FedIncome['3000 Bracket']\n",
    "FedIncome['Supertotal']=FedIncome['75 Bracket']+FedIncome['225 Bracket']+FedIncome['350 Bracket']+FedIncome['450 Bracket']+FedIncome['575 Bracket']+FedIncome['725 Bracket']+FedIncome['900 Bracket']+FedIncome['1125 Bracket']+FedIncome['1375 Bracket']+FedIncome['1625 Bracket']+FedIncome['1875 Bracket']+FedIncome['2500 Bracket']+FedIncome['3000 Bracket']\n",
    "FedIncome['Average']=FedIncome['Supertotal']/FedIncome['Total']\n",
    "FedIncome['Average']=FedIncome['Average']*100\n",
    "FedIncome=FedIncome.drop(['Nil income','75 Bracket','225 Bracket','350 Bracket','450 Bracket','575 Bracket','725 Bracket','900 Bracket','1125 Bracket','1375 Bracket','1625 Bracket','1875 Bracket','2500 Bracket','3000 Bracket','Total','Supertotal','Not stated','Not applicable','Negative income'],axis=1)\n",
    "FedIncome=FedIncome.drop([0])\n",
    "FedIncome=FedIncome.drop([48])\n",
    "FedIncome.rename(columns={'Unnamed: 0':'Name',\n",
    "                       'Average': 'Fed_IncAverage'}, inplace=True)\n",
    "FedIncome.head()"
   ]
  },
  {
   "cell_type": "code",
   "execution_count": 21,
   "metadata": {},
   "outputs": [],
   "source": [
    "FedIncome.to_csv('Clean Data/CleanFedAverageIncome.csv')"
   ]
  },
  {
   "cell_type": "markdown",
   "metadata": {},
   "source": [
    "### Result data"
   ]
  },
  {
   "cell_type": "code",
   "execution_count": 22,
   "metadata": {},
   "outputs": [
    {
     "data": {
      "text/html": [
       "<div>\n",
       "<style scoped>\n",
       "    .dataframe tbody tr th:only-of-type {\n",
       "        vertical-align: middle;\n",
       "    }\n",
       "\n",
       "    .dataframe tbody tr th {\n",
       "        vertical-align: top;\n",
       "    }\n",
       "\n",
       "    .dataframe thead th {\n",
       "        text-align: right;\n",
       "    }\n",
       "</style>\n",
       "<table border=\"1\" class=\"dataframe\">\n",
       "  <thead>\n",
       "    <tr style=\"text-align: right;\">\n",
       "      <th></th>\n",
       "      <th>State</th>\n",
       "      <th>DivisionId</th>\n",
       "      <th>DivisionAb</th>\n",
       "      <th>DivisionName</th>\n",
       "      <th>TCPCandidate</th>\n",
       "      <th>PreferenceVotes</th>\n",
       "      <th>CandidateId</th>\n",
       "      <th>CandidateSurname</th>\n",
       "      <th>PartyAb</th>\n",
       "    </tr>\n",
       "  </thead>\n",
       "  <tbody>\n",
       "    <tr>\n",
       "      <td>0</td>\n",
       "      <td>ACT</td>\n",
       "      <td>101</td>\n",
       "      <td>CANB</td>\n",
       "      <td>Canberra</td>\n",
       "      <td>1</td>\n",
       "      <td>71915</td>\n",
       "      <td>25470</td>\n",
       "      <td>ALP_CANB</td>\n",
       "      <td>ALP</td>\n",
       "    </tr>\n",
       "    <tr>\n",
       "      <td>1</td>\n",
       "      <td>ACT</td>\n",
       "      <td>101</td>\n",
       "      <td>CANB</td>\n",
       "      <td>Canberra</td>\n",
       "      <td>2</td>\n",
       "      <td>53140</td>\n",
       "      <td>25472</td>\n",
       "      <td>LP_CANB</td>\n",
       "      <td>LP</td>\n",
       "    </tr>\n",
       "    <tr>\n",
       "      <td>2</td>\n",
       "      <td>ACT</td>\n",
       "      <td>102</td>\n",
       "      <td>FENN</td>\n",
       "      <td>Fenner</td>\n",
       "      <td>1</td>\n",
       "      <td>72773</td>\n",
       "      <td>25478</td>\n",
       "      <td>ALP_FRAS</td>\n",
       "      <td>ALP</td>\n",
       "    </tr>\n",
       "    <tr>\n",
       "      <td>3</td>\n",
       "      <td>ACT</td>\n",
       "      <td>102</td>\n",
       "      <td>FENN</td>\n",
       "      <td>Fenner</td>\n",
       "      <td>2</td>\n",
       "      <td>43675</td>\n",
       "      <td>25480</td>\n",
       "      <td>LP_FRAS</td>\n",
       "      <td>LP</td>\n",
       "    </tr>\n",
       "    <tr>\n",
       "      <td>4</td>\n",
       "      <td>NSW</td>\n",
       "      <td>103</td>\n",
       "      <td>BANK</td>\n",
       "      <td>Banks</td>\n",
       "      <td>1</td>\n",
       "      <td>41167</td>\n",
       "      <td>27557</td>\n",
       "      <td>ALP_BANK</td>\n",
       "      <td>ALP</td>\n",
       "    </tr>\n",
       "  </tbody>\n",
       "</table>\n",
       "</div>"
      ],
      "text/plain": [
       "  State  DivisionId DivisionAb DivisionName  TCPCandidate  PreferenceVotes  \\\n",
       "0   ACT         101       CANB     Canberra             1            71915   \n",
       "1   ACT         101       CANB     Canberra             2            53140   \n",
       "2   ACT         102       FENN       Fenner             1            72773   \n",
       "3   ACT         102       FENN       Fenner             2            43675   \n",
       "4   NSW         103       BANK        Banks             1            41167   \n",
       "\n",
       "   CandidateId CandidateSurname PartyAb  \n",
       "0        25470         ALP_CANB     ALP  \n",
       "1        25472          LP_CANB      LP  \n",
       "2        25478         ALP_FRAS     ALP  \n",
       "3        25480          LP_FRAS      LP  \n",
       "4        27557         ALP_BANK     ALP  "
      ]
     },
     "execution_count": 22,
     "metadata": {},
     "output_type": "execute_result"
    }
   ],
   "source": [
    "Result = pd.read_csv('Unclean Data/Result data.csv')\n",
    "Result.head()"
   ]
  },
  {
   "cell_type": "code",
   "execution_count": 23,
   "metadata": {},
   "outputs": [
    {
     "data": {
      "text/html": [
       "<div>\n",
       "<style scoped>\n",
       "    .dataframe tbody tr th:only-of-type {\n",
       "        vertical-align: middle;\n",
       "    }\n",
       "\n",
       "    .dataframe tbody tr th {\n",
       "        vertical-align: top;\n",
       "    }\n",
       "\n",
       "    .dataframe thead th {\n",
       "        text-align: right;\n",
       "    }\n",
       "</style>\n",
       "<table border=\"1\" class=\"dataframe\">\n",
       "  <thead>\n",
       "    <tr style=\"text-align: right;\">\n",
       "      <th></th>\n",
       "      <th>State</th>\n",
       "      <th>DivisionId</th>\n",
       "      <th>DivisionAb</th>\n",
       "      <th>DivisionName</th>\n",
       "      <th>TCPCandidate</th>\n",
       "      <th>PreferenceVotes</th>\n",
       "      <th>CandidateId</th>\n",
       "      <th>CandidateSurname</th>\n",
       "      <th>PartyAb</th>\n",
       "    </tr>\n",
       "  </thead>\n",
       "  <tbody>\n",
       "    <tr>\n",
       "      <td>4</td>\n",
       "      <td>NSW</td>\n",
       "      <td>103</td>\n",
       "      <td>BANK</td>\n",
       "      <td>Banks</td>\n",
       "      <td>1</td>\n",
       "      <td>41167</td>\n",
       "      <td>27557</td>\n",
       "      <td>ALP_BANK</td>\n",
       "      <td>ALP</td>\n",
       "    </tr>\n",
       "    <tr>\n",
       "      <td>5</td>\n",
       "      <td>NSW</td>\n",
       "      <td>103</td>\n",
       "      <td>BANK</td>\n",
       "      <td>Banks</td>\n",
       "      <td>2</td>\n",
       "      <td>46050</td>\n",
       "      <td>27558</td>\n",
       "      <td>LP_BANK</td>\n",
       "      <td>LNP</td>\n",
       "    </tr>\n",
       "    <tr>\n",
       "      <td>6</td>\n",
       "      <td>NSW</td>\n",
       "      <td>104</td>\n",
       "      <td>BART</td>\n",
       "      <td>Barton</td>\n",
       "      <td>1</td>\n",
       "      <td>44929</td>\n",
       "      <td>27565</td>\n",
       "      <td>ALP_BART</td>\n",
       "      <td>ALP</td>\n",
       "    </tr>\n",
       "    <tr>\n",
       "      <td>7</td>\n",
       "      <td>NSW</td>\n",
       "      <td>104</td>\n",
       "      <td>BART</td>\n",
       "      <td>Barton</td>\n",
       "      <td>2</td>\n",
       "      <td>37682</td>\n",
       "      <td>27566</td>\n",
       "      <td>LP_BART</td>\n",
       "      <td>LNP</td>\n",
       "    </tr>\n",
       "    <tr>\n",
       "      <td>8</td>\n",
       "      <td>NSW</td>\n",
       "      <td>105</td>\n",
       "      <td>BENN</td>\n",
       "      <td>Bennelong</td>\n",
       "      <td>1</td>\n",
       "      <td>51139</td>\n",
       "      <td>27576</td>\n",
       "      <td>LP_BENN</td>\n",
       "      <td>LNP</td>\n",
       "    </tr>\n",
       "  </tbody>\n",
       "</table>\n",
       "</div>"
      ],
      "text/plain": [
       "  State  DivisionId DivisionAb DivisionName  TCPCandidate  PreferenceVotes  \\\n",
       "4   NSW         103       BANK        Banks             1            41167   \n",
       "5   NSW         103       BANK        Banks             2            46050   \n",
       "6   NSW         104       BART       Barton             1            44929   \n",
       "7   NSW         104       BART       Barton             2            37682   \n",
       "8   NSW         105       BENN    Bennelong             1            51139   \n",
       "\n",
       "   CandidateId CandidateSurname PartyAb  \n",
       "4        27557         ALP_BANK     ALP  \n",
       "5        27558          LP_BANK     LNP  \n",
       "6        27565         ALP_BART     ALP  \n",
       "7        27566          LP_BART     LNP  \n",
       "8        27576          LP_BENN     LNP  "
      ]
     },
     "execution_count": 23,
     "metadata": {},
     "output_type": "execute_result"
    }
   ],
   "source": [
    "Result = Result[Result.State == 'NSW']\n",
    "Result = Result.replace(to_replace =\"LP\", value =\"LNP\")\n",
    "Result = Result.replace(to_replace =\"NP\", value =\"LNP\") \n",
    "Result.head()"
   ]
  },
  {
   "cell_type": "code",
   "execution_count": 24,
   "metadata": {},
   "outputs": [
    {
     "data": {
      "text/html": [
       "<div>\n",
       "<style scoped>\n",
       "    .dataframe tbody tr th:only-of-type {\n",
       "        vertical-align: middle;\n",
       "    }\n",
       "\n",
       "    .dataframe tbody tr th {\n",
       "        vertical-align: top;\n",
       "    }\n",
       "\n",
       "    .dataframe thead th {\n",
       "        text-align: right;\n",
       "    }\n",
       "</style>\n",
       "<table border=\"1\" class=\"dataframe\">\n",
       "  <thead>\n",
       "    <tr style=\"text-align: right;\">\n",
       "      <th></th>\n",
       "      <th>DivisionName</th>\n",
       "      <th>PreferenceVotes</th>\n",
       "      <th>PartyAb</th>\n",
       "    </tr>\n",
       "  </thead>\n",
       "  <tbody>\n",
       "    <tr>\n",
       "      <td>0</td>\n",
       "      <td>Banks</td>\n",
       "      <td>46050</td>\n",
       "      <td>LNP</td>\n",
       "    </tr>\n",
       "    <tr>\n",
       "      <td>1</td>\n",
       "      <td>Barton</td>\n",
       "      <td>44929</td>\n",
       "      <td>ALP</td>\n",
       "    </tr>\n",
       "    <tr>\n",
       "      <td>2</td>\n",
       "      <td>Bennelong</td>\n",
       "      <td>51139</td>\n",
       "      <td>LNP</td>\n",
       "    </tr>\n",
       "    <tr>\n",
       "      <td>3</td>\n",
       "      <td>Berowra</td>\n",
       "      <td>63720</td>\n",
       "      <td>LNP</td>\n",
       "    </tr>\n",
       "    <tr>\n",
       "      <td>4</td>\n",
       "      <td>Blaxland</td>\n",
       "      <td>47545</td>\n",
       "      <td>ALP</td>\n",
       "    </tr>\n",
       "  </tbody>\n",
       "</table>\n",
       "</div>"
      ],
      "text/plain": [
       "  DivisionName  PreferenceVotes PartyAb\n",
       "0        Banks            46050     LNP\n",
       "1       Barton            44929     ALP\n",
       "2    Bennelong            51139     LNP\n",
       "3      Berowra            63720     LNP\n",
       "4     Blaxland            47545     ALP"
      ]
     },
     "execution_count": 24,
     "metadata": {},
     "output_type": "execute_result"
    }
   ],
   "source": [
    "Result.index = range(len(Result))\n",
    "Result = Result.drop(['State','DivisionId','DivisionAb','TCPCandidate','CandidateId','CandidateSurname'],axis=1)\n",
    "Result = Result.sort_values('PreferenceVotes',ascending=False)\n",
    "Result.drop_duplicates(subset =\"DivisionName\", inplace = True) \n",
    "Result = Result.sort_values('DivisionName')\n",
    "Result.index = range(len(Result))\n",
    "Result.to_csv('Clean Data/CleanResult.csv')\n",
    "Result.head()"
   ]
  },
  {
   "cell_type": "code",
   "execution_count": 25,
   "metadata": {},
   "outputs": [
    {
     "data": {
      "text/html": [
       "<div>\n",
       "<style scoped>\n",
       "    .dataframe tbody tr th:only-of-type {\n",
       "        vertical-align: middle;\n",
       "    }\n",
       "\n",
       "    .dataframe tbody tr th {\n",
       "        vertical-align: top;\n",
       "    }\n",
       "\n",
       "    .dataframe thead th {\n",
       "        text-align: right;\n",
       "    }\n",
       "</style>\n",
       "<table border=\"1\" class=\"dataframe\">\n",
       "  <thead>\n",
       "    <tr style=\"text-align: right;\">\n",
       "      <th></th>\n",
       "      <th>Party won</th>\n",
       "      <th>Name</th>\n",
       "    </tr>\n",
       "  </thead>\n",
       "  <tbody>\n",
       "    <tr>\n",
       "      <td>0</td>\n",
       "      <td>LNP</td>\n",
       "      <td>Albury</td>\n",
       "    </tr>\n",
       "    <tr>\n",
       "      <td>1</td>\n",
       "      <td>ALP</td>\n",
       "      <td>Auburn</td>\n",
       "    </tr>\n",
       "    <tr>\n",
       "      <td>2</td>\n",
       "      <td>Green</td>\n",
       "      <td>Ballina</td>\n",
       "    </tr>\n",
       "    <tr>\n",
       "      <td>3</td>\n",
       "      <td>Green</td>\n",
       "      <td>Balmain</td>\n",
       "    </tr>\n",
       "    <tr>\n",
       "      <td>4</td>\n",
       "      <td>ALP</td>\n",
       "      <td>Bankstown</td>\n",
       "    </tr>\n",
       "  </tbody>\n",
       "</table>\n",
       "</div>"
      ],
      "text/plain": [
       "  Party won       Name\n",
       "0       LNP     Albury\n",
       "1       ALP     Auburn\n",
       "2     Green    Ballina\n",
       "3     Green    Balmain\n",
       "4       ALP  Bankstown"
      ]
     },
     "execution_count": 25,
     "metadata": {},
     "output_type": "execute_result"
    }
   ],
   "source": [
    "ResultNSW=pd.read_csv('Unclean Data/NSWresults.csv')\n",
    "ResultNSW = ResultNSW.replace(to_replace =\"Labor\", value =\"ALP\") \n",
    "ResultNSW['Name']= ResultNSW['District']\n",
    "ResultNSW=ResultNSW.drop(['District'],axis=1)\n",
    "ResultNSW.to_csv('Clean Data/CleanNSWResult.csv')\n",
    "ResultNSW.head()"
   ]
  },
  {
   "cell_type": "markdown",
   "metadata": {},
   "source": [
    "### Combine those table into one"
   ]
  },
  {
   "cell_type": "code",
   "execution_count": 26,
   "metadata": {},
   "outputs": [
    {
     "data": {
      "text/html": [
       "<div>\n",
       "<style scoped>\n",
       "    .dataframe tbody tr th:only-of-type {\n",
       "        vertical-align: middle;\n",
       "    }\n",
       "\n",
       "    .dataframe tbody tr th {\n",
       "        vertical-align: top;\n",
       "    }\n",
       "\n",
       "    .dataframe thead th {\n",
       "        text-align: right;\n",
       "    }\n",
       "</style>\n",
       "<table border=\"1\" class=\"dataframe\">\n",
       "  <thead>\n",
       "    <tr style=\"text-align: right;\">\n",
       "      <th></th>\n",
       "      <th>Name</th>\n",
       "      <th>Ancestry_Proportion</th>\n",
       "      <th>Education_Proportion</th>\n",
       "      <th>Age_Average</th>\n",
       "      <th>Children_Average</th>\n",
       "      <th>Income_Average</th>\n",
       "    </tr>\n",
       "  </thead>\n",
       "  <tbody>\n",
       "    <tr>\n",
       "      <td>0</td>\n",
       "      <td>Albury</td>\n",
       "      <td>0.561347</td>\n",
       "      <td>0.306550</td>\n",
       "      <td>41.462241</td>\n",
       "      <td>1.957339</td>\n",
       "      <td>787.124060</td>\n",
       "    </tr>\n",
       "    <tr>\n",
       "      <td>1</td>\n",
       "      <td>Auburn</td>\n",
       "      <td>0.102925</td>\n",
       "      <td>0.490746</td>\n",
       "      <td>34.877516</td>\n",
       "      <td>1.503916</td>\n",
       "      <td>690.836679</td>\n",
       "    </tr>\n",
       "    <tr>\n",
       "      <td>2</td>\n",
       "      <td>Ballina</td>\n",
       "      <td>0.580751</td>\n",
       "      <td>0.379375</td>\n",
       "      <td>44.227358</td>\n",
       "      <td>1.780289</td>\n",
       "      <td>789.434557</td>\n",
       "    </tr>\n",
       "    <tr>\n",
       "      <td>3</td>\n",
       "      <td>Balmain</td>\n",
       "      <td>0.473518</td>\n",
       "      <td>0.620436</td>\n",
       "      <td>37.889434</td>\n",
       "      <td>0.916856</td>\n",
       "      <td>1282.443970</td>\n",
       "    </tr>\n",
       "    <tr>\n",
       "      <td>4</td>\n",
       "      <td>Bankstown</td>\n",
       "      <td>0.131282</td>\n",
       "      <td>0.409595</td>\n",
       "      <td>36.483350</td>\n",
       "      <td>1.800435</td>\n",
       "      <td>630.460980</td>\n",
       "    </tr>\n",
       "  </tbody>\n",
       "</table>\n",
       "</div>"
      ],
      "text/plain": [
       "        Name  Ancestry_Proportion  Education_Proportion  Age_Average  \\\n",
       "0     Albury             0.561347              0.306550    41.462241   \n",
       "1     Auburn             0.102925              0.490746    34.877516   \n",
       "2    Ballina             0.580751              0.379375    44.227358   \n",
       "3    Balmain             0.473518              0.620436    37.889434   \n",
       "4  Bankstown             0.131282              0.409595    36.483350   \n",
       "\n",
       "   Children_Average  Income_Average  \n",
       "0          1.957339      787.124060  \n",
       "1          1.503916      690.836679  \n",
       "2          1.780289      789.434557  \n",
       "3          0.916856     1282.443970  \n",
       "4          1.800435      630.460980  "
      ]
     },
     "execution_count": 26,
     "metadata": {},
     "output_type": "execute_result"
    }
   ],
   "source": [
    "dfs = [Ancestry, Education, Age, Children, Income]\n",
    "df_final = reduce(lambda left,right: pd.merge(left,right,on='Name'), dfs)\n",
    "df_final.rename(columns={'Proportion_x':'Ancestry_Proportion',\n",
    "                          'Proportion_y':'Education_Proportion',\n",
    "                          'Average_x':'Age_Average',\n",
    "                          'Average_y':'Children_Average',\n",
    "                          'Average':'Income_Average'}, \n",
    "                 inplace=True)\n",
    "df_final.head()"
   ]
  },
  {
   "cell_type": "code",
   "execution_count": 27,
   "metadata": {},
   "outputs": [
    {
     "data": {
      "text/html": [
       "<div>\n",
       "<style scoped>\n",
       "    .dataframe tbody tr th:only-of-type {\n",
       "        vertical-align: middle;\n",
       "    }\n",
       "\n",
       "    .dataframe tbody tr th {\n",
       "        vertical-align: top;\n",
       "    }\n",
       "\n",
       "    .dataframe thead th {\n",
       "        text-align: right;\n",
       "    }\n",
       "</style>\n",
       "<table border=\"1\" class=\"dataframe\">\n",
       "  <thead>\n",
       "    <tr style=\"text-align: right;\">\n",
       "      <th></th>\n",
       "      <th>Name</th>\n",
       "      <th>Fed_AnceProportion</th>\n",
       "      <th>Fed_EduProportion</th>\n",
       "      <th>Fed_AgeAverage</th>\n",
       "      <th>Fed_ChildAverage</th>\n",
       "      <th>Fed_IncAverage</th>\n",
       "    </tr>\n",
       "  </thead>\n",
       "  <tbody>\n",
       "    <tr>\n",
       "      <td>0</td>\n",
       "      <td>Banks</td>\n",
       "      <td>0.273465</td>\n",
       "      <td>0.493383</td>\n",
       "      <td>39.867943</td>\n",
       "      <td>0.606615</td>\n",
       "      <td>646.439758</td>\n",
       "    </tr>\n",
       "    <tr>\n",
       "      <td>1</td>\n",
       "      <td>Barton</td>\n",
       "      <td>0.180501</td>\n",
       "      <td>0.537483</td>\n",
       "      <td>38.589805</td>\n",
       "      <td>0.506451</td>\n",
       "      <td>631.405046</td>\n",
       "    </tr>\n",
       "    <tr>\n",
       "      <td>2</td>\n",
       "      <td>Bennelong</td>\n",
       "      <td>0.265087</td>\n",
       "      <td>0.598456</td>\n",
       "      <td>38.849113</td>\n",
       "      <td>0.527665</td>\n",
       "      <td>736.573384</td>\n",
       "    </tr>\n",
       "    <tr>\n",
       "      <td>3</td>\n",
       "      <td>Berowra</td>\n",
       "      <td>0.435631</td>\n",
       "      <td>0.532653</td>\n",
       "      <td>40.472466</td>\n",
       "      <td>0.658470</td>\n",
       "      <td>793.820798</td>\n",
       "    </tr>\n",
       "    <tr>\n",
       "      <td>4</td>\n",
       "      <td>Blaxland</td>\n",
       "      <td>0.123276</td>\n",
       "      <td>0.427016</td>\n",
       "      <td>35.997921</td>\n",
       "      <td>0.617867</td>\n",
       "      <td>446.488922</td>\n",
       "    </tr>\n",
       "  </tbody>\n",
       "</table>\n",
       "</div>"
      ],
      "text/plain": [
       "        Name  Fed_AnceProportion  Fed_EduProportion  Fed_AgeAverage  \\\n",
       "0      Banks            0.273465           0.493383       39.867943   \n",
       "1     Barton            0.180501           0.537483       38.589805   \n",
       "2  Bennelong            0.265087           0.598456       38.849113   \n",
       "3    Berowra            0.435631           0.532653       40.472466   \n",
       "4   Blaxland            0.123276           0.427016       35.997921   \n",
       "\n",
       "   Fed_ChildAverage  Fed_IncAverage  \n",
       "0          0.606615      646.439758  \n",
       "1          0.506451      631.405046  \n",
       "2          0.527665      736.573384  \n",
       "3          0.658470      793.820798  \n",
       "4          0.617867      446.488922  "
      ]
     },
     "execution_count": 27,
     "metadata": {},
     "output_type": "execute_result"
    }
   ],
   "source": [
    "dfsf = [FedAncestry, FedEducation, FedAge, FedChildren, FedIncome]\n",
    "df_finalFed = reduce(lambda left,right: pd.merge(left,right,on='Name'), dfsf)\n",
    "df_finalFed.to_csv('Clean Data/Fed_All_in_one.csv')\n",
    "df_finalFed.head()"
   ]
  },
  {
   "cell_type": "markdown",
   "metadata": {},
   "source": [
    "### Append party won for seaborn plots"
   ]
  },
  {
   "cell_type": "code",
   "execution_count": 28,
   "metadata": {},
   "outputs": [
    {
     "data": {
      "text/html": [
       "<div>\n",
       "<style scoped>\n",
       "    .dataframe tbody tr th:only-of-type {\n",
       "        vertical-align: middle;\n",
       "    }\n",
       "\n",
       "    .dataframe tbody tr th {\n",
       "        vertical-align: top;\n",
       "    }\n",
       "\n",
       "    .dataframe thead th {\n",
       "        text-align: right;\n",
       "    }\n",
       "</style>\n",
       "<table border=\"1\" class=\"dataframe\">\n",
       "  <thead>\n",
       "    <tr style=\"text-align: right;\">\n",
       "      <th></th>\n",
       "      <th>Name</th>\n",
       "      <th>Ancestry_Proportion</th>\n",
       "      <th>Education_Proportion</th>\n",
       "      <th>Age_Average</th>\n",
       "      <th>Children_Average</th>\n",
       "      <th>Income_Average</th>\n",
       "      <th>Party won</th>\n",
       "    </tr>\n",
       "  </thead>\n",
       "  <tbody>\n",
       "    <tr>\n",
       "      <td>0</td>\n",
       "      <td>Albury</td>\n",
       "      <td>0.561347</td>\n",
       "      <td>0.306550</td>\n",
       "      <td>41.462241</td>\n",
       "      <td>1.957339</td>\n",
       "      <td>787.124060</td>\n",
       "      <td>LNP</td>\n",
       "    </tr>\n",
       "    <tr>\n",
       "      <td>1</td>\n",
       "      <td>Auburn</td>\n",
       "      <td>0.102925</td>\n",
       "      <td>0.490746</td>\n",
       "      <td>34.877516</td>\n",
       "      <td>1.503916</td>\n",
       "      <td>690.836679</td>\n",
       "      <td>ALP</td>\n",
       "    </tr>\n",
       "    <tr>\n",
       "      <td>2</td>\n",
       "      <td>Ballina</td>\n",
       "      <td>0.580751</td>\n",
       "      <td>0.379375</td>\n",
       "      <td>44.227358</td>\n",
       "      <td>1.780289</td>\n",
       "      <td>789.434557</td>\n",
       "      <td>Green</td>\n",
       "    </tr>\n",
       "    <tr>\n",
       "      <td>3</td>\n",
       "      <td>Balmain</td>\n",
       "      <td>0.473518</td>\n",
       "      <td>0.620436</td>\n",
       "      <td>37.889434</td>\n",
       "      <td>0.916856</td>\n",
       "      <td>1282.443970</td>\n",
       "      <td>Green</td>\n",
       "    </tr>\n",
       "    <tr>\n",
       "      <td>4</td>\n",
       "      <td>Bankstown</td>\n",
       "      <td>0.131282</td>\n",
       "      <td>0.409595</td>\n",
       "      <td>36.483350</td>\n",
       "      <td>1.800435</td>\n",
       "      <td>630.460980</td>\n",
       "      <td>ALP</td>\n",
       "    </tr>\n",
       "  </tbody>\n",
       "</table>\n",
       "</div>"
      ],
      "text/plain": [
       "        Name  Ancestry_Proportion  Education_Proportion  Age_Average  \\\n",
       "0     Albury             0.561347              0.306550    41.462241   \n",
       "1     Auburn             0.102925              0.490746    34.877516   \n",
       "2    Ballina             0.580751              0.379375    44.227358   \n",
       "3    Balmain             0.473518              0.620436    37.889434   \n",
       "4  Bankstown             0.131282              0.409595    36.483350   \n",
       "\n",
       "   Children_Average  Income_Average Party won  \n",
       "0          1.957339      787.124060       LNP  \n",
       "1          1.503916      690.836679       ALP  \n",
       "2          1.780289      789.434557     Green  \n",
       "3          0.916856     1282.443970     Green  \n",
       "4          1.800435      630.460980       ALP  "
      ]
     },
     "execution_count": 28,
     "metadata": {},
     "output_type": "execute_result"
    }
   ],
   "source": [
    "Full = [df_final,ResultNSW]\n",
    "NSWFull = reduce(lambda left,right: pd.merge(left,right,on='Name'), Full)\n",
    "NSWFull.head()"
   ]
  },
  {
   "cell_type": "code",
   "execution_count": 29,
   "metadata": {},
   "outputs": [],
   "source": [
    "NSWFull.to_csv('Clean Data/NSWFull.csv')"
   ]
  },
  {
   "cell_type": "markdown",
   "metadata": {},
   "source": [
    "### Data Analysis"
   ]
  },
  {
   "cell_type": "code",
   "execution_count": 30,
   "metadata": {},
   "outputs": [
    {
     "data": {
      "text/plain": [
       "<seaborn.axisgrid.FacetGrid at 0x272ed8570b8>"
      ]
     },
     "execution_count": 30,
     "metadata": {},
     "output_type": "execute_result"
    },
    {
     "data": {
      "image/png": "[encoded data removed]",
      "text/plain": [
       "<Figure size 360x360 with 1 Axes>"
      ]
     },
     "metadata": {
      "needs_background": "light"
     },
     "output_type": "display_data"
    }
   ],
   "source": [
    "sns.lmplot(x='Education_Proportion', y='Income_Average', data=df_final)"
   ]
  },
  {
   "cell_type": "code",
   "execution_count": 31,
   "metadata": {},
   "outputs": [
    {
     "data": {
      "text/plain": [
       "<matplotlib.axes._subplots.AxesSubplot at 0x272f2e02208>"
      ]
     },
     "execution_count": 31,
     "metadata": {},
     "output_type": "execute_result"
    },
    {
     "data": {
      "image/png": "[encoded data removed]",
      "text/plain": [
       "<Figure size 432x288 with 1 Axes>"
      ]
     },
     "metadata": {
      "needs_background": "light"
     },
     "output_type": "display_data"
    }
   ],
   "source": [
    "stats_df = df_final.drop(['Income_Average'], axis=1)\n",
    "sns.boxplot(data=stats_df)"
   ]
  },
  {
   "cell_type": "code",
   "execution_count": 32,
   "metadata": {},
   "outputs": [
    {
     "data": {
      "text/plain": [
       "<matplotlib.axes._subplots.AxesSubplot at 0x272f30fcda0>"
      ]
     },
     "execution_count": 32,
     "metadata": {},
     "output_type": "execute_result"
    },
    {
     "data": {
      "image/png": "[encoded data removed]",
      "text/plain": [
       "<Figure size 432x288 with 1 Axes>"
      ]
     },
     "metadata": {
      "needs_background": "light"
     },
     "output_type": "display_data"
    }
   ],
   "source": [
    "sns.swarmplot(x='Name', y='Education_Proportion', data=df_final, )"
   ]
  },
  {
   "cell_type": "code",
   "execution_count": 33,
   "metadata": {},
   "outputs": [
    {
     "data": {
      "text/plain": [
       "<matplotlib.axes._subplots.AxesSubplot at 0x272f33a2ac8>"
      ]
     },
     "execution_count": 33,
     "metadata": {},
     "output_type": "execute_result"
    },
    {
     "data": {
      "image/png": "[encoded data removed]",
      "text/plain": [
       "<Figure size 432x288 with 2 Axes>"
      ]
     },
     "metadata": {
      "needs_background": "light"
     },
     "output_type": "display_data"
    }
   ],
   "source": [
    "corr = df_final.corr()\n",
    "sns.heatmap(corr)"
   ]
  },
  {
   "cell_type": "code",
   "execution_count": 34,
   "metadata": {},
   "outputs": [
    {
     "data": {
      "text/plain": [
       "<matplotlib.axes._subplots.AxesSubplot at 0x272f3430d68>"
      ]
     },
     "execution_count": 34,
     "metadata": {},
     "output_type": "execute_result"
    },
    {
     "data": {
      "image/png": "[encoded data removed]",
      "text/plain": [
       "<Figure size 432x288 with 1 Axes>"
      ]
     },
     "metadata": {
      "needs_background": "light"
     },
     "output_type": "display_data"
    }
   ],
   "source": [
    "sns.distplot(df_final.Age_Average)"
   ]
  },
  {
   "cell_type": "code",
   "execution_count": 35,
   "metadata": {},
   "outputs": [
    {
     "data": {
      "text/plain": [
       "<matplotlib.axes._subplots.AxesSubplot at 0x272f44a04a8>"
      ]
     },
     "execution_count": 35,
     "metadata": {},
     "output_type": "execute_result"
    },
    {
     "data": {
      "image/png": "[encoded data removed]",
      "text/plain": [
       "<Figure size 432x288 with 1 Axes>"
      ]
     },
     "metadata": {
      "needs_background": "light"
     },
     "output_type": "display_data"
    }
   ],
   "source": [
    "sns.kdeplot(df_final.Education_Proportion,df_final.Income_Average )"
   ]
  },
  {
   "cell_type": "markdown",
   "metadata": {},
   "source": [
    "## Logistic Regression Analysis"
   ]
  },
  {
   "cell_type": "code",
   "execution_count": 36,
   "metadata": {},
   "outputs": [],
   "source": [
    "import pandas as pd\n",
    "import numpy as np\n",
    "import seaborn as sns\n",
    "import matplotlib.pyplot as plt\n",
    "%matplotlib inline\n",
    "from sklearn.model_selection import train_test_split\n",
    "from sklearn import linear_model\n",
    "from sklearn.metrics import r2_score\n",
    "from sklearn.linear_model import LogisticRegression\n",
    "from sklearn.metrics import confusion_matrix, accuracy_score\n",
    "from sklearn.feature_selection import RFE"
   ]
  },
  {
   "cell_type": "code",
   "execution_count": 37,
   "metadata": {},
   "outputs": [],
   "source": [
    "FullFed = pd.read_csv(\"Clean Data/FedFull.csv\")"
   ]
  },
  {
   "cell_type": "code",
   "execution_count": 38,
   "metadata": {},
   "outputs": [],
   "source": [
    "FullFed = FullFed.drop(columns='Unnamed: 0')"
   ]
  },
  {
   "cell_type": "code",
   "execution_count": 39,
   "metadata": {},
   "outputs": [
    {
     "data": {
      "text/html": [
       "<div>\n",
       "<style scoped>\n",
       "    .dataframe tbody tr th:only-of-type {\n",
       "        vertical-align: middle;\n",
       "    }\n",
       "\n",
       "    .dataframe tbody tr th {\n",
       "        vertical-align: top;\n",
       "    }\n",
       "\n",
       "    .dataframe thead th {\n",
       "        text-align: right;\n",
       "    }\n",
       "</style>\n",
       "<table border=\"1\" class=\"dataframe\">\n",
       "  <thead>\n",
       "    <tr style=\"text-align: right;\">\n",
       "      <th></th>\n",
       "      <th>Name</th>\n",
       "      <th>Fed_AnceProportion</th>\n",
       "      <th>Fed_EduProportion</th>\n",
       "      <th>Fed_AgeAverage</th>\n",
       "      <th>Fed_ChildAverage</th>\n",
       "      <th>Fed_IncAverage</th>\n",
       "      <th>PartyAb</th>\n",
       "    </tr>\n",
       "  </thead>\n",
       "  <tbody>\n",
       "    <tr>\n",
       "      <td>0</td>\n",
       "      <td>Banks</td>\n",
       "      <td>0.273465</td>\n",
       "      <td>0.493383</td>\n",
       "      <td>39.867943</td>\n",
       "      <td>0.606615</td>\n",
       "      <td>646.439758</td>\n",
       "      <td>LNP</td>\n",
       "    </tr>\n",
       "    <tr>\n",
       "      <td>1</td>\n",
       "      <td>Barton</td>\n",
       "      <td>0.180501</td>\n",
       "      <td>0.537483</td>\n",
       "      <td>38.589805</td>\n",
       "      <td>0.506451</td>\n",
       "      <td>631.405046</td>\n",
       "      <td>ALP</td>\n",
       "    </tr>\n",
       "    <tr>\n",
       "      <td>2</td>\n",
       "      <td>Bennelong</td>\n",
       "      <td>0.265087</td>\n",
       "      <td>0.598456</td>\n",
       "      <td>38.849113</td>\n",
       "      <td>0.527665</td>\n",
       "      <td>736.573384</td>\n",
       "      <td>LNP</td>\n",
       "    </tr>\n",
       "    <tr>\n",
       "      <td>3</td>\n",
       "      <td>Berowra</td>\n",
       "      <td>0.435631</td>\n",
       "      <td>0.532653</td>\n",
       "      <td>40.472466</td>\n",
       "      <td>0.658470</td>\n",
       "      <td>793.820798</td>\n",
       "      <td>LNP</td>\n",
       "    </tr>\n",
       "    <tr>\n",
       "      <td>4</td>\n",
       "      <td>Blaxland</td>\n",
       "      <td>0.123276</td>\n",
       "      <td>0.427016</td>\n",
       "      <td>35.997921</td>\n",
       "      <td>0.617867</td>\n",
       "      <td>446.488922</td>\n",
       "      <td>ALP</td>\n",
       "    </tr>\n",
       "  </tbody>\n",
       "</table>\n",
       "</div>"
      ],
      "text/plain": [
       "        Name  Fed_AnceProportion  Fed_EduProportion  Fed_AgeAverage  \\\n",
       "0      Banks            0.273465           0.493383       39.867943   \n",
       "1     Barton            0.180501           0.537483       38.589805   \n",
       "2  Bennelong            0.265087           0.598456       38.849113   \n",
       "3    Berowra            0.435631           0.532653       40.472466   \n",
       "4   Blaxland            0.123276           0.427016       35.997921   \n",
       "\n",
       "   Fed_ChildAverage  Fed_IncAverage PartyAb  \n",
       "0          0.606615      646.439758     LNP  \n",
       "1          0.506451      631.405046     ALP  \n",
       "2          0.527665      736.573384     LNP  \n",
       "3          0.658470      793.820798     LNP  \n",
       "4          0.617867      446.488922     ALP  "
      ]
     },
     "execution_count": 39,
     "metadata": {},
     "output_type": "execute_result"
    }
   ],
   "source": [
    "FullFed.head()"
   ]
  },
  {
   "cell_type": "code",
   "execution_count": 40,
   "metadata": {},
   "outputs": [
    {
     "data": {
      "image/png": "[encoded data removed]",
      "text/plain": [
       "<Figure size 432x288 with 1 Axes>"
      ]
     },
     "metadata": {
      "needs_background": "light"
     },
     "output_type": "display_data"
    }
   ],
   "source": [
    "sns.countplot(FullFed['PartyAb'], data = FullFed, palette='hls')\n",
    "plt.show()"
   ]
  },
  {
   "cell_type": "code",
   "execution_count": 41,
   "metadata": {},
   "outputs": [
    {
     "name": "stderr",
     "output_type": "stream",
     "text": [
      "D:\\Anaconda\\lib\\site-packages\\sklearn\\linear_model\\logistic.py:432: FutureWarning: Default solver will be changed to 'lbfgs' in 0.22. Specify a solver to silence this warning.\n",
      "  FutureWarning)\n"
     ]
    },
    {
     "data": {
      "text/plain": [
       "LogisticRegression(C=1.0, class_weight=None, dual=False, fit_intercept=True,\n",
       "                   intercept_scaling=1, l1_ratio=None, max_iter=100,\n",
       "                   multi_class='warn', n_jobs=None, penalty='l2',\n",
       "                   random_state=None, solver='warn', tol=0.0001, verbose=0,\n",
       "                   warm_start=False)"
      ]
     },
     "execution_count": 41,
     "metadata": {},
     "output_type": "execute_result"
    }
   ],
   "source": [
    "reg = linear_model.LogisticRegression()\n",
    "X_train = FullFed.drop(['Name','PartyAb'],axis = 1)\n",
    "y_train = FullFed['PartyAb']\n",
    "reg.fit(X_train, y_train)"
   ]
  },
  {
   "cell_type": "code",
   "execution_count": 42,
   "metadata": {},
   "outputs": [],
   "source": [
    "test = pd.read_csv(\"Clean Data/NSWFull.csv\")"
   ]
  },
  {
   "cell_type": "code",
   "execution_count": 43,
   "metadata": {},
   "outputs": [],
   "source": [
    "test = test.drop(columns='Unnamed: 0')"
   ]
  },
  {
   "cell_type": "code",
   "execution_count": 44,
   "metadata": {},
   "outputs": [
    {
     "data": {
      "text/html": [
       "<div>\n",
       "<style scoped>\n",
       "    .dataframe tbody tr th:only-of-type {\n",
       "        vertical-align: middle;\n",
       "    }\n",
       "\n",
       "    .dataframe tbody tr th {\n",
       "        vertical-align: top;\n",
       "    }\n",
       "\n",
       "    .dataframe thead th {\n",
       "        text-align: right;\n",
       "    }\n",
       "</style>\n",
       "<table border=\"1\" class=\"dataframe\">\n",
       "  <thead>\n",
       "    <tr style=\"text-align: right;\">\n",
       "      <th></th>\n",
       "      <th>Name</th>\n",
       "      <th>Ancestry_Proportion</th>\n",
       "      <th>Education_Proportion</th>\n",
       "      <th>Age_Average</th>\n",
       "      <th>Children_Average</th>\n",
       "      <th>Income_Average</th>\n",
       "      <th>Party won</th>\n",
       "    </tr>\n",
       "  </thead>\n",
       "  <tbody>\n",
       "    <tr>\n",
       "      <td>0</td>\n",
       "      <td>Albury</td>\n",
       "      <td>0.561347</td>\n",
       "      <td>0.306550</td>\n",
       "      <td>41.462241</td>\n",
       "      <td>1.957339</td>\n",
       "      <td>787.124060</td>\n",
       "      <td>LNP</td>\n",
       "    </tr>\n",
       "    <tr>\n",
       "      <td>1</td>\n",
       "      <td>Auburn</td>\n",
       "      <td>0.102925</td>\n",
       "      <td>0.490746</td>\n",
       "      <td>34.877516</td>\n",
       "      <td>1.503916</td>\n",
       "      <td>690.836679</td>\n",
       "      <td>ALP</td>\n",
       "    </tr>\n",
       "    <tr>\n",
       "      <td>2</td>\n",
       "      <td>Ballina</td>\n",
       "      <td>0.580751</td>\n",
       "      <td>0.379375</td>\n",
       "      <td>44.227358</td>\n",
       "      <td>1.780289</td>\n",
       "      <td>789.434557</td>\n",
       "      <td>Green</td>\n",
       "    </tr>\n",
       "    <tr>\n",
       "      <td>3</td>\n",
       "      <td>Balmain</td>\n",
       "      <td>0.473518</td>\n",
       "      <td>0.620436</td>\n",
       "      <td>37.889434</td>\n",
       "      <td>0.916856</td>\n",
       "      <td>1282.443970</td>\n",
       "      <td>Green</td>\n",
       "    </tr>\n",
       "    <tr>\n",
       "      <td>4</td>\n",
       "      <td>Bankstown</td>\n",
       "      <td>0.131282</td>\n",
       "      <td>0.409595</td>\n",
       "      <td>36.483350</td>\n",
       "      <td>1.800435</td>\n",
       "      <td>630.460980</td>\n",
       "      <td>ALP</td>\n",
       "    </tr>\n",
       "  </tbody>\n",
       "</table>\n",
       "</div>"
      ],
      "text/plain": [
       "        Name  Ancestry_Proportion  Education_Proportion  Age_Average  \\\n",
       "0     Albury             0.561347              0.306550    41.462241   \n",
       "1     Auburn             0.102925              0.490746    34.877516   \n",
       "2    Ballina             0.580751              0.379375    44.227358   \n",
       "3    Balmain             0.473518              0.620436    37.889434   \n",
       "4  Bankstown             0.131282              0.409595    36.483350   \n",
       "\n",
       "   Children_Average  Income_Average Party won  \n",
       "0          1.957339      787.124060       LNP  \n",
       "1          1.503916      690.836679       ALP  \n",
       "2          1.780289      789.434557     Green  \n",
       "3          0.916856     1282.443970     Green  \n",
       "4          1.800435      630.460980       ALP  "
      ]
     },
     "execution_count": 44,
     "metadata": {},
     "output_type": "execute_result"
    }
   ],
   "source": [
    "test.head()"
   ]
  },
  {
   "cell_type": "code",
   "execution_count": 45,
   "metadata": {},
   "outputs": [
    {
     "data": {
      "image/png": "[encoded data removed]",
      "text/plain": [
       "<Figure size 432x288 with 1 Axes>"
      ]
     },
     "metadata": {
      "needs_background": "light"
     },
     "output_type": "display_data"
    }
   ],
   "source": [
    "sns.countplot(test['Party won'], data = test, palette='hls')\n",
    "plt.show()"
   ]
  },
  {
   "cell_type": "code",
   "execution_count": 46,
   "metadata": {},
   "outputs": [],
   "source": [
    "X_test = test.drop(['Name','Party won'], axis=1)\n",
    "y_test = test['Party won']"
   ]
  },
  {
   "cell_type": "code",
   "execution_count": 47,
   "metadata": {},
   "outputs": [],
   "source": [
    "from sklearn.metrics import accuracy_score\n",
    "y_pred = reg.predict(X_test)"
   ]
  },
  {
   "cell_type": "code",
   "execution_count": 48,
   "metadata": {},
   "outputs": [
    {
     "data": {
      "text/plain": [
       "array([[ 0,  0,  0,  0, 36,  0],\n",
       "       [ 0,  0,  0,  0,  2,  0],\n",
       "       [ 0,  0,  0,  0,  1,  0],\n",
       "       [ 0,  0,  0,  0,  3,  0],\n",
       "       [ 0,  0,  0,  0, 48,  0],\n",
       "       [ 0,  0,  0,  0,  3,  0]], dtype=int64)"
      ]
     },
     "execution_count": 48,
     "metadata": {},
     "output_type": "execute_result"
    }
   ],
   "source": [
    "confusion_matrix(y_test, y_pred)"
   ]
  },
  {
   "cell_type": "code",
   "execution_count": 49,
   "metadata": {},
   "outputs": [
    {
     "data": {
      "text/plain": [
       "0.5161290322580645"
      ]
     },
     "execution_count": 49,
     "metadata": {},
     "output_type": "execute_result"
    }
   ],
   "source": [
    "accuracy_score(y_test, y_pred)"
   ]
  },
  {
   "cell_type": "markdown",
   "metadata": {},
   "source": [
    "## KNN"
   ]
  },
  {
   "cell_type": "code",
   "execution_count": 50,
   "metadata": {},
   "outputs": [
    {
     "name": "stderr",
     "output_type": "stream",
     "text": [
      "D:\\Anaconda\\lib\\site-packages\\ipykernel_launcher.py:8: DataConversionWarning: A column-vector y was passed when a 1d array was expected. Please change the shape of y to (n_samples, ), for example using ravel().\n",
      "  \n"
     ]
    },
    {
     "name": "stdout",
     "output_type": "stream",
     "text": [
      "accuracy: 0.4946236559139785\n"
     ]
    }
   ],
   "source": [
    "from sklearn.neighbors import KNeighborsClassifier\n",
    "from sklearn.metrics import accuracy_score\n",
    "FedData = pd.read_csv('Clean Data/FedFull.csv',usecols = [2,3,4,5,6])\n",
    "NSWData = pd.read_csv('Clean Data/All_in_one.csv',usecols = [2,3,4,5,6])\n",
    "FedResult = pd.read_csv('Clean Data/CleanResult.csv',usecols = [3])\n",
    "NSWResult = pd.read_csv('Clean Data/CleanNSWResult.csv',usecols = [1])\n",
    "neigh = KNeighborsClassifier(n_neighbors=1)\n",
    "neigh.fit(FedData, FedResult)\n",
    "pred = neigh.predict(NSWData)\n",
    "print(\"accuracy: {}\".format(accuracy_score(NSWResult, pred)))"
   ]
  },
  {
   "cell_type": "code",
   "execution_count": 51,
   "metadata": {},
   "outputs": [
    {
     "name": "stdout",
     "output_type": "stream",
     "text": [
      "accuracy: 0.7023809523809523\n",
      "Feature importances:\n",
      "[0.23625    0.02127572 0.06209559 0.58728129 0.09309739]\n"
     ]
    }
   ],
   "source": [
    "from sklearn.tree import DecisionTreeClassifier \n",
    "#Dropping non-two-party results\n",
    "NSWData = pd.read_csv('Clean Data/All_in_one.csv',usecols = [2,3,4,5,6],skiprows=[3,4,6,42,56,59,64,80,87])\n",
    "NSWResult = pd.read_csv('Clean Data/CleanNSWResult.csv',usecols = [1],skiprows=[3,4,6,42,56,59,64,80,87])\n",
    "clf = DecisionTreeClassifier(random_state=0)\n",
    "clf = clf.fit(FedData,FedResult)\n",
    "pred = clf.predict(NSWData)\n",
    "print(\"accuracy: {}\".format(accuracy_score(NSWResult, pred)))\n",
    "print(\"Feature importances:\\n{}\".format(clf.feature_importances_))"
   ]
  },
  {
   "cell_type": "code",
   "execution_count": null,
   "metadata": {},
   "outputs": [],
   "source": []
  },
  {
   "cell_type": "code",
   "execution_count": null,
   "metadata": {},
   "outputs": [],
   "source": []
  },
  {
   "cell_type": "code",
   "execution_count": null,
   "metadata": {},
   "outputs": [],
   "source": []
  }
 ],
 "metadata": {
  "kernelspec": {
   "display_name": "Python 3",
   "language": "python",
   "name": "python3"
  },
  "language_info": {
   "codemirror_mode": {
    "name": "ipython",
    "version": 3
   },
   "file_extension": ".py",
   "mimetype": "text/x-python",
   "name": "python",
   "nbconvert_exporter": "python",
   "pygments_lexer": "ipython3",
   "version": "3.7.3"
  },
  "varInspector": {
   "cols": {
    "lenName": 16,
    "lenType": 16,
    "lenVar": 40
   },
   "kernels_config": {
    "python": {
     "delete_cmd_postfix": "",
     "delete_cmd_prefix": "del ",
     "library": "var_list.py",
     "varRefreshCmd": "print(var_dic_list())"
    },
    "r": {
     "delete_cmd_postfix": ") ",
     "delete_cmd_prefix": "rm(",
     "library": "var_list.r",
     "varRefreshCmd": "cat(var_dic_list()) "
    }
   },
   "types_to_exclude": [
    "module",
    "function",
    "builtin_function_or_method",
    "instance",
    "_Feature"
   ],
   "window_display": false
  }
 },
 "nbformat": 4,
 "nbformat_minor": 2
}
