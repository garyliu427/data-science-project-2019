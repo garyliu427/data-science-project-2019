{
 "cells": [
  {
   "cell_type": "markdown",
   "metadata": {},
   "source": [
    "# Data Analysis of Election Results\n",
    "\n",
    "## Practical 06 - Group E\n",
    "\n",
    "> Michael Payne - 45133956  \n",
    "> Xiaotian Liu - 44410573  \n",
    "> Vincent Xu - 44937113  \n",
    "> Tianhao Tang - 44030754  \n",
    "\n",
    "### Data Obtained from:\n",
    "\n",
    "- Australian Buraeu of Statistics\n",
    "- Federal Electoral Commission\n",
    "- NSW Electoral Commission\n"
   ]
  },
  {
   "cell_type": "markdown",
   "metadata": {},
   "source": [
    "# Summary\n",
    "\n",
    "Our project is an analysis on 5 socioeconomic factors within the australian census statistics that allows us to classify responses in an attempt to explain variance in electoral seat victories.\n",
    "\n",
    "## Project Goals\n",
    "\n",
    "- To build a classifier that can as accurately as possible with given variables predict a two-party outcome based on socioeconomic factors  \n",
    "- To determine which factor is most important to finding the best response  \n",
    "- To illustrate the differences between the different groups for each variables\n",
    "\n",
    "#### Our chosen factors include the following:\n",
    "Ancestry - Proportion of electorate the selected North-west European as their 1st Ancestry response  \n",
    "Age - Average age of electorate  \n",
    "Children - Average amount of children each electorate responded as having  \n",
    "Income - Average weekly income of electorate  \n",
    "Education - Proportion of electorate that has completed year 12 of High School  \n",
    "\n",
    "### Dataset\n",
    "\n",
    "the meat of our data comes from the Australian Bureau of Statistics, which provides access to all census data from the past 15 years. Our data comes from the most recent national census in 2016\n",
    "\n",
    "our response data is the electoral seat winnings, which we obtained from the Federal and NSW Electoral Commissions. in our project we have used the Federal result data to train our classifiers to test on the NSW electorate statistics.\n",
    "\n",
    "## Results\n",
    "\n",
    "The end result of our classifiers analysis was a decision tree based classifier than, when excluding parties outside of the two-party paradigm, could correctly classify 70% of cases, a marked increase from the expected 50% from guessing\n",
    "Surprisingly it seems, the best identifier for what an electorate would vote appeared to be how many families lived in the electorate, with our factor analysis returning it as 58.7% of the factor power.\n"
   ]
  },
  {
   "cell_type": "markdown",
   "metadata": {},
   "source": [
    "# Data Cleaning and saving\n",
    "\n",
    "For a clean final report, all data was imported and cleaned within a seperate python notebook.   \n",
    "To view the cleaning notebook with working included, see Group Assignment Working notebook.ipynb\n",
    "#### The notebook Initialization.ipynb, when run, will import and clean all data without working"
   ]
  },
  {
   "cell_type": "markdown",
   "metadata": {},
   "source": [
    "## Importing Libraries\n"
   ]
  },
  {
   "cell_type": "code",
   "execution_count": 33,
   "metadata": {},
   "outputs": [],
   "source": [
    "import pandas as pd\n",
    "import numpy as np\n",
    "import seaborn as sns\n",
    "\n",
    "import matplotlib.pylab as plt\n",
    "from matplotlib.pyplot import imread\n",
    "%matplotlib inline\n",
    "\n",
    "#-- Analysis\n",
    "\n",
    "from sklearn.metrics import confusion_matrix, accuracy_score\n",
    "\n",
    "#---Logistic\n",
    "from sklearn.model_selection import train_test_split\n",
    "from sklearn import linear_model\n",
    "from sklearn.metrics import r2_score\n",
    "from sklearn.linear_model import LogisticRegression\n",
    "\n",
    "#---naive bayes\n",
    "from sklearn.naive_bayes import GaussianNB\n",
    "from sklearn.naive_bayes import MultinomialNB\n",
    "\n",
    "#---Knearest neighbour\n",
    "from sklearn.cluster import KMeans\n",
    "from sklearn.neighbors import KNeighborsClassifier\n",
    "\n",
    "#---Decision Tree\n",
    "from sklearn.tree import DecisionTreeClassifier \n",
    "\n",
    "#---feature selection\n",
    "from sklearn.datasets import make_classification\n",
    "from sklearn.ensemble import ExtraTreesClassifier\n",
    "from sklearn.feature_selection import RFE\n",
    "\n",
    "#---data processing\n",
    "from sklearn import preprocessing\n",
    "from sklearn.preprocessing import KBinsDiscretizer\n",
    "from sklearn.model_selection import train_test_split\n",
    "\n",
    "#---to clean up the presentation, given the same errors persist due to the dataset\n",
    "import warnings\n",
    "warnings.filterwarnings(\"ignore\")"
   ]
  },
  {
   "cell_type": "markdown",
   "metadata": {},
   "source": [
    "# Comparison of variables for different voters"
   ]
  },
  {
   "cell_type": "code",
   "execution_count": 2,
   "metadata": {},
   "outputs": [
    {
     "ename": "SyntaxError",
     "evalue": "invalid syntax (<ipython-input-2-8ec614cc8975>, line 1)",
     "output_type": "error",
     "traceback": [
      "\u001b[1;36m  File \u001b[1;32m\"<ipython-input-2-8ec614cc8975>\"\u001b[1;36m, line \u001b[1;32m1\u001b[0m\n\u001b[1;33m    insert seaborn analysis here\u001b[0m\n\u001b[1;37m                 ^\u001b[0m\n\u001b[1;31mSyntaxError\u001b[0m\u001b[1;31m:\u001b[0m invalid syntax\n"
     ]
    }
   ],
   "source": [
    "insert seaborn analysis here"
   ]
  },
  {
   "cell_type": "markdown",
   "metadata": {},
   "source": [
    "# Classification\n",
    "\n",
    "Our classification process will include using the smaller 2 party federal election results to train our classifiers, which, while it is a smaller dataset, results in a binary response. For the purpose of this analysis parties that do not fit the two-party paradigm will be both included and removed for later results"
   ]
  },
  {
   "cell_type": "markdown",
   "metadata": {},
   "source": [
    "### Logistic Regression"
   ]
  },
  {
   "cell_type": "code",
   "execution_count": 3,
   "metadata": {},
   "outputs": [
    {
     "data": {
      "text/plain": [
       "LogisticRegression(C=1.0, class_weight=None, dual=False, fit_intercept=True,\n",
       "                   intercept_scaling=1, l1_ratio=None, max_iter=100,\n",
       "                   multi_class='warn', n_jobs=None, penalty='l2',\n",
       "                   random_state=None, solver='warn', tol=0.0001, verbose=0,\n",
       "                   warm_start=False)"
      ]
     },
     "execution_count": 3,
     "metadata": {},
     "output_type": "execute_result"
    }
   ],
   "source": [
    "FullFed = pd.read_csv(\"Clean Data/FedFull.csv\")\n",
    "FullFed = FullFed.drop(columns='Unnamed: 0')\n",
    "reg = linear_model.LogisticRegression()\n",
    "X_train = FullFed.drop(['Name','PartyAb'],axis = 1)\n",
    "y_train = FullFed['PartyAb']\n",
    "reg.fit(X_train, y_train)"
   ]
  },
  {
   "cell_type": "code",
   "execution_count": 5,
   "metadata": {},
   "outputs": [],
   "source": [
    "test = pd.read_csv(\"Clean Data/NSWFull.csv\")\n",
    "test = test.drop(columns='Unnamed: 0')\n",
    "X_test = test.drop(['Name','Party won'], axis=1)\n",
    "y_test = test['Party won']"
   ]
  },
  {
   "cell_type": "code",
   "execution_count": 7,
   "metadata": {},
   "outputs": [
    {
     "data": {
      "text/plain": [
       "0.5161290322580645"
      ]
     },
     "execution_count": 7,
     "metadata": {},
     "output_type": "execute_result"
    }
   ],
   "source": [
    "log_pred = reg.predict(X_test)\n",
    "accuracy_score(y_test, log_pred)"
   ]
  },
  {
   "cell_type": "markdown",
   "metadata": {},
   "source": [
    "### Kneighbours Classifier"
   ]
  },
  {
   "cell_type": "code",
   "execution_count": 10,
   "metadata": {},
   "outputs": [
    {
     "data": {
      "text/plain": [
       "0.5591397849462365"
      ]
     },
     "execution_count": 10,
     "metadata": {},
     "output_type": "execute_result"
    }
   ],
   "source": [
    "knn = KNeighborsClassifier()\n",
    "knn.fit(X_train, y_train) \n",
    "knn_pred = knn.predict(X_test)\n",
    "accuracy_score(y_test, knn_pred)"
   ]
  },
  {
   "cell_type": "markdown",
   "metadata": {},
   "source": [
    "### Gaussian Naive Bayes"
   ]
  },
  {
   "cell_type": "code",
   "execution_count": 11,
   "metadata": {},
   "outputs": [
    {
     "data": {
      "text/plain": [
       "0.40860215053763443"
      ]
     },
     "execution_count": 11,
     "metadata": {},
     "output_type": "execute_result"
    }
   ],
   "source": [
    "GNB = GaussianNB()\n",
    "GNB.fit(X_train, y_train)\n",
    "GNB_pred=GNB.predict(X_test)\n",
    "accuracy_score(y_test, GNB_pred)"
   ]
  },
  {
   "cell_type": "markdown",
   "metadata": {},
   "source": [
    "### Decision Tree Classifier"
   ]
  },
  {
   "cell_type": "code",
   "execution_count": 14,
   "metadata": {},
   "outputs": [
    {
     "data": {
      "text/plain": [
       "0.6344086021505376"
      ]
     },
     "execution_count": 14,
     "metadata": {},
     "output_type": "execute_result"
    }
   ],
   "source": [
    "DTC=DecisionTreeClassifier(random_state=0)\n",
    "DTC.fit(X_train,y_train)\n",
    "DTC_pred=DTC.predict(X_test)\n",
    "accuracy_score(y_test, DTC_pred)"
   ]
  },
  {
   "cell_type": "markdown",
   "metadata": {},
   "source": [
    "## Analysis\n",
    "\n",
    "write analysis on classifier difference here\n",
    "\n",
    "\n",
    "\n",
    "\n",
    "## Removal of third party responses from test data\n",
    "now we will remove the independant party responses from our test data and check the accuracy of our results"
   ]
  },
  {
   "cell_type": "code",
   "execution_count": 26,
   "metadata": {},
   "outputs": [],
   "source": [
    "droptest = pd.read_csv(\"Clean Data/NSWFull.csv\")\n",
    "droptest = droptest.drop(columns='Unnamed: 0')\n",
    "droptest = droptest[droptest['Party won'] != 'Green']\n",
    "droptest = droptest[droptest['Party won'] != 'Greens']\n",
    "droptest = droptest[droptest['Party won'] != 'Shooters Fishers and Farmers']\n",
    "droptest = droptest[droptest['Party won'] != 'Independent']\n",
    "dropX_test = droptest.drop(['Name','Party won'], axis=1)\n",
    "dropy_test = droptest['Party won']"
   ]
  },
  {
   "cell_type": "markdown",
   "metadata": {},
   "source": [
    "### Logistic Regression"
   ]
  },
  {
   "cell_type": "code",
   "execution_count": 27,
   "metadata": {},
   "outputs": [
    {
     "data": {
      "text/plain": [
       "0.5714285714285714"
      ]
     },
     "execution_count": 27,
     "metadata": {},
     "output_type": "execute_result"
    }
   ],
   "source": [
    "droplog_pred = reg.predict(dropX_test)\n",
    "accuracy_score(dropy_test, droplog_pred)"
   ]
  },
  {
   "cell_type": "markdown",
   "metadata": {},
   "source": [
    "### Kneighbours Classifier"
   ]
  },
  {
   "cell_type": "code",
   "execution_count": 28,
   "metadata": {},
   "outputs": [
    {
     "data": {
      "text/plain": [
       "0.6190476190476191"
      ]
     },
     "execution_count": 28,
     "metadata": {},
     "output_type": "execute_result"
    }
   ],
   "source": [
    "dropknn_pred = knn.predict(dropX_test)\n",
    "accuracy_score(dropy_test, dropknn_pred)"
   ]
  },
  {
   "cell_type": "markdown",
   "metadata": {},
   "source": [
    "### Gaussian Naive Bayes"
   ]
  },
  {
   "cell_type": "code",
   "execution_count": 29,
   "metadata": {},
   "outputs": [
    {
     "data": {
      "text/plain": [
       "0.4523809523809524"
      ]
     },
     "execution_count": 29,
     "metadata": {},
     "output_type": "execute_result"
    }
   ],
   "source": [
    "dropGNB_pred=GNB.predict(dropX_test)\n",
    "accuracy_score(dropy_test, dropGNB_pred)"
   ]
  },
  {
   "cell_type": "markdown",
   "metadata": {},
   "source": [
    "### Decision Tree Classifier"
   ]
  },
  {
   "cell_type": "code",
   "execution_count": 30,
   "metadata": {},
   "outputs": [
    {
     "data": {
      "text/plain": [
       "0.7023809523809523"
      ]
     },
     "execution_count": 30,
     "metadata": {},
     "output_type": "execute_result"
    }
   ],
   "source": [
    "dropDTC_pred=DTC.predict(dropX_test)\n",
    "accuracy_score(dropy_test, dropDTC_pred)"
   ]
  },
  {
   "cell_type": "markdown",
   "metadata": {},
   "source": [
    "## Feature Importance\n",
    "since our decision tree returned the best result, we will return feature importance on the result"
   ]
  },
  {
   "cell_type": "code",
   "execution_count": 35,
   "metadata": {},
   "outputs": [
    {
     "name": "stdout",
     "output_type": "stream",
     "text": [
      "Feature importances:\n",
      "[0.23625    0.02127572 0.06209559 0.58728129 0.09309739]\n"
     ]
    }
   ],
   "source": [
    "print(\"Feature importances:\\n{}\".format(DTC.feature_importances_))"
   ]
  },
  {
   "cell_type": "markdown",
   "metadata": {},
   "source": [
    "These features, in order, are Ancestry, Education, Age, Children and Income\n",
    "\n",
    "it appears that we may be able to get a better performing model using only children and ancestry, lets test this now"
   ]
  },
  {
   "cell_type": "code",
   "execution_count": 51,
   "metadata": {},
   "outputs": [
    {
     "data": {
      "text/plain": [
       "0.6344086021505376"
      ]
     },
     "execution_count": 51,
     "metadata": {},
     "output_type": "execute_result"
    }
   ],
   "source": [
    "FullFedsmol = pd.read_csv(\"Clean Data/FedFull.csv\")\n",
    "FullFedsmol = FullFedsmol.drop(['Unnamed: 0','Fed_EduProportion','Fed_AgeAverage','Fed_IncAverage'],axis=1)\n",
    "DTCsmol=DecisionTreeClassifier(random_state=0)\n",
    "smolX_train = FullFedsmol.drop(['Name','PartyAb'],axis = 1)\n",
    "smoly_train = FullFedsmol['PartyAb']\n",
    "DTCsmol.fit(smolX_train,smoly_train)\n",
    "smoltest = pd.read_csv(\"Clean Data/NSWFull.csv\")\n",
    "smoltest = smoltest.drop(['Unnamed: 0','Education_Proportion','Age_Average','Income_Average'],axis=1)\n",
    "smolX_test = smoltest.drop(['Name','Party won'], axis=1)\n",
    "smoly_test = smoltest['Party won']\n",
    "DTCsmol_pred=DTCsmol.predict(smolX_test)\n",
    "accuracy_score(smoly_test, DTCsmol_pred)"
   ]
  },
  {
   "cell_type": "markdown",
   "metadata": {},
   "source": [
    "# Feature conclusion\n",
    "\n",
    "while it appears that presence of children wildly affects the voting pattern, removal of the less significant factors does not produce a more accurate model, which is to be expected due to the very large amounts of people in each electorate, voting for different things."
   ]
  },
  {
   "cell_type": "code",
   "execution_count": null,
   "metadata": {},
   "outputs": [],
   "source": []
  }
 ],
 "metadata": {
  "kernelspec": {
   "display_name": "Python 3",
   "language": "python",
   "name": "python3"
  },
  "language_info": {
   "codemirror_mode": {
    "name": "ipython",
    "version": 3
   },
   "file_extension": ".py",
   "mimetype": "text/x-python",
   "name": "python",
   "nbconvert_exporter": "python",
   "pygments_lexer": "ipython3",
   "version": "3.7.3"
  }
 },
 "nbformat": 4,
 "nbformat_minor": 2
}
