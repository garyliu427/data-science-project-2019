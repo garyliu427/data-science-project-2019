{
 "cells": [
  {
   "cell_type": "code",
   "execution_count": 1,
   "metadata": {},
   "outputs": [],
   "source": [
    "import pandas as pd\n",
    "import numpy as np\n",
    "import matplotlib.pylab as plt\n",
    "from functools import reduce"
   ]
  },
  {
   "cell_type": "markdown",
   "metadata": {},
   "source": [
    "# Cleaning Workbook\n",
    "### This file contains all of the code to clean all of our unlean data. none of the data checking, etc we performed is here, instead located in Group Assignment Working notebook.ipynb\n",
    "\n",
    "## Import and Clean all 5 variable files for our federal and state data"
   ]
  },
  {
   "cell_type": "markdown",
   "metadata": {},
   "source": [
    "## Ancestry"
   ]
  },
  {
   "cell_type": "code",
   "execution_count": 2,
   "metadata": {},
   "outputs": [],
   "source": [
    "Ancestry=pd.read_csv('Unclean Data/Ancestry 1st Response - Unclean.csv')\n",
    "Ancestry = Ancestry.drop(columns=\"Unnamed: 13\")\n",
    "Ancestry = Ancestry.drop(columns=\"Unnamed: 14\")\n",
    "Ancestry = Ancestry.drop(Ancestry.index[95])\n",
    "Ancestry['NewEuropean'] = Ancestry['North-West European'].str.replace(',', '')\n",
    "Ancestry['NewEuropean'] = Ancestry['NewEuropean'].astype(int)\n",
    "Ancestry['Total'] = Ancestry['Total'].str.replace(',', '')\n",
    "Ancestry['Total'] = Ancestry['Total'].astype(int)\n",
    "Ancestry['Proportion'] = Ancestry['NewEuropean']/Ancestry['Total']\n",
    "Ancestry=Ancestry.drop(['Oceanian','North-West European','Southern and Eastern European','North African and Middle Eastern','South-East Asian','North-East Asian','Southern and Central Asian','Peoples of the Americas','Sub-Saharan African','Supplementary codes','Not stated','Total','NewEuropean'],axis=1)\n",
    "Ancestry = Ancestry.drop([93,94],axis=0)\n",
    "Ancestry.to_csv('Clean Data/CleanAncestry.csv')\n",
    "FedAncestry=pd.read_csv('Unclean Data/FedelecsAncestryUnclean.csv',thousands=',')\n",
    "FedAncestry = FedAncestry.drop(FedAncestry.index[48])\n",
    "FedAncestry['Proportion'] = FedAncestry['North-West European']/FedAncestry['Total']\n",
    "FedAncestry = FedAncestry.drop(FedAncestry.index[0])\n",
    "FedAncestry=FedAncestry.drop(['Oceanian','North-West European','Southern and Eastern European','North African and Middle Eastern','South-East Asian','North-East Asian','Southern and Central Asian','Peoples of the Americas','Sub-Saharan African','Supplementary codes','Not stated','Total'],axis=1)\n",
    "FedAncestry['Name'] = FedAncestry['Unnamed: 0']\n",
    "FedAncestry=FedAncestry.drop(['Unnamed: 0'],axis=1)\n",
    "columnsTitles=[\"Name\",\"Proportion\"]\n",
    "FedAncestry=FedAncestry.reindex(columns=columnsTitles)\n",
    "FedAncestry.rename(columns={'Proportion': 'Fed_AnceProportion'}, inplace=True)\n",
    "FedAncestry.to_csv('Clean Data/CleanFedAncestry.csv')\n"
   ]
  },
  {
   "cell_type": "markdown",
   "metadata": {},
   "source": [
    "## Age"
   ]
  },
  {
   "cell_type": "code",
   "execution_count": 3,
   "metadata": {},
   "outputs": [],
   "source": [
    "Age=pd.read_csv('Unclean Data/Average Age - Unclean.csv',thousands=',')\n",
    "Age['0-9 years'] = 5*Age['0-9 years']\n",
    "Age['10-19 years'] = 15*Age['10-19 years']\n",
    "Age['20-29 years'] = 25*Age['20-29 years']\n",
    "Age['30-39 years'] = 35*Age['30-39 years']\n",
    "Age['40-49 years'] = 45*Age['40-49 years']\n",
    "Age['50-59 years'] = 55*Age['50-59 years']\n",
    "Age['60-69 years'] = 65*Age['60-69 years']\n",
    "Age['70-79 years'] = 75*Age['70-79 years']\n",
    "Age['80-89 years'] = 85*Age['80-89 years']\n",
    "Age['90-99 years'] = 95*Age['90-99 years']\n",
    "Age['100 years and over'] = 105*Age['100 years and over']\n",
    "Age['supertotal']= Age['0-9 years'] + Age['10-19 years'] + Age['20-29 years'] + Age['30-39 years'] + Age['40-49 years'] + Age['50-59 years'] + Age['60-69 years'] + Age['70-79 years'] + Age['80-89 years'] + Age['90-99 years'] + Age['100 years and over']\n",
    "Age['Average']= Age['supertotal']/Age['Total']\n",
    "Age = Age.drop(['0-9 years','10-19 years','20-29 years','30-39 years','40-49 years','50-59 years','60-69 years','70-79 years','80-89 years','90-99 years','100 years and over','Total','supertotal'],axis=1)\n",
    "Age = Age.drop([93,94,95],axis=0)\n",
    "Age.to_csv('Clean Data/AverageAge.csv')\n",
    "FedAge=pd.read_csv('Unclean Data/FedelecsAverageAgeUnclean.csv',thousands=',')\n",
    "FedAge['0-9 years'] = 5*FedAge['0-9 years']\n",
    "FedAge['10-19 years'] = 15*FedAge['10-19 years']\n",
    "FedAge['20-29 years'] = 25*FedAge['20-29 years']\n",
    "FedAge['30-39 years'] = 35*FedAge['30-39 years']\n",
    "FedAge['40-49 years'] = 45*FedAge['40-49 years']\n",
    "FedAge['50-59 years'] = 55*FedAge['50-59 years']\n",
    "FedAge['60-69 years'] = 65*FedAge['60-69 years']\n",
    "FedAge['70-79 years'] = 75*FedAge['70-79 years']\n",
    "FedAge['80-89 years'] = 85*FedAge['80-89 years']\n",
    "FedAge['90-99 years'] = 95*FedAge['90-99 years']\n",
    "FedAge['100 years and over'] = 105*FedAge['100 years and over']\n",
    "FedAge['supertotal']= FedAge['0-9 years'] + FedAge['10-19 years'] + FedAge['20-29 years'] + FedAge['30-39 years'] + FedAge['40-49 years'] + FedAge['50-59 years'] + FedAge['60-69 years'] + FedAge['70-79 years'] + FedAge['80-89 years'] + FedAge['90-99 years'] + FedAge['100 years and over']\n",
    "FedAge['Average']= FedAge['supertotal']/FedAge['Total']\n",
    "FedAge = FedAge.drop(['0-9 years','10-19 years','20-29 years','30-39 years','40-49 years','50-59 years','60-69 years','70-79 years','80-89 years','90-99 years','100 years and over','Total','supertotal'],axis=1)\n",
    "FedAge = FedAge.drop(Age.index[0])\n",
    "FedAge.rename(columns={'Unnamed: 0':'Name',\n",
    "                       'Average': 'Fed_AgeAverage'}, inplace=True)\n",
    "FedAge.to_csv('Clean Data/FedAverageAge.csv')"
   ]
  },
  {
   "cell_type": "markdown",
   "metadata": {},
   "source": [
    "## Education"
   ]
  },
  {
   "cell_type": "code",
   "execution_count": 4,
   "metadata": {},
   "outputs": [],
   "source": [
    "Education=pd.read_csv('Unclean Data/Education - Unclean.csv',thousands=',')\n",
    "Education['Proportion']=Education['Year 12 or equivalent']/Education['Total']\n",
    "Education=Education.drop(['Year 12 or equivalent','Year 11 or equivalent','Year 10 or equivalent','Year 9 or equivalent','Year 8 or below','Did not go to school','Not stated','Not applicable','Total'],axis=1)\n",
    "Education = Education.drop([93,94,95],axis=0)\n",
    "Education.to_csv('Clean Data/Education.csv')\n",
    "FedEducation=pd.read_csv('Unclean Data/FedelecsEducationUnclean.csv',thousands=',')\n",
    "FedEducation['Proportion']=FedEducation['Year 12 or equivalent']/FedEducation['Total']\n",
    "FedEducation=FedEducation.drop(['Year 12 or equivalent','Year 11 or equivalent','Year 10 or equivalent','Year 9 or equivalent','Year 8 or below','Did not go to school','Not stated','Not applicable','Total'],axis=1)\n",
    "FedEducation=FedEducation.drop(FedEducation.index[0])\n",
    "FedEducation=FedEducation.drop([48,49,50])\n",
    "FedEducation.rename(columns={'District':'Name',\n",
    "                       'Proportion': 'Fed_EduProportion'}, inplace=True)\n",
    "FedEducation.to_csv('Clean Data/CleanFedEducation.csv')"
   ]
  },
  {
   "cell_type": "markdown",
   "metadata": {},
   "source": [
    "## Children"
   ]
  },
  {
   "cell_type": "code",
   "execution_count": 5,
   "metadata": {},
   "outputs": [],
   "source": [
    "Children=pd.read_csv('Unclean Data/Number of Children ever born - Unclean.csv',thousands = ',')\n",
    "Children['Two children']= 2*Children['Two children']\n",
    "Children['Three children']= 3*Children['Three children']\n",
    "Children['Four children']= 4*Children['Four children']\n",
    "Children['Five children']= 5*Children['Five children']\n",
    "Children['Six children']= 6*Children['Six children']\n",
    "Children['Seven children']= 7*Children['Seven children']\n",
    "Children['Eight or more children']= 8*Children['Eight or more children']\n",
    "Children['Supertotal']=Children['One child']+Children['Two children']+Children['Three children']+Children['Four children']+Children['Five children']+Children['Six children']+Children['Seven children']+Children['Eight or more children']\n",
    "Children['Average']=Children['Supertotal']/Children['Total']\n",
    "Children=Children.drop(['No children','One child','Two children','Three children','Four children','Five children','Six children','Seven children','Eight or more children','Total','Supertotal'],axis=1)\n",
    "Children=Children.drop([93,94,95], axis=0)\n",
    "Children.to_csv('Clean Data/AverageChildren.csv')\n",
    "FedChildren=pd.read_csv('Unclean Data/FedelectsChildrenUnclean.csv',thousands = ',')\n",
    "FedChildren['Two children']= 2*FedChildren['Two children']\n",
    "FedChildren['Three children']= 3*FedChildren['Three children']\n",
    "FedChildren['Four children']= 4*FedChildren['Four children']\n",
    "FedChildren['Five children']= 5*FedChildren['Five children']\n",
    "FedChildren['Six children']= 6*FedChildren['Six children']\n",
    "FedChildren['Seven children']= 7*FedChildren['Seven children']\n",
    "FedChildren['Eight or more children']= 8*FedChildren['Eight or more children']\n",
    "FedChildren['Supertotal']=FedChildren['One child']+FedChildren['Two children']+FedChildren['Three children']+FedChildren['Four children']+FedChildren['Five children']+FedChildren['Six children']+FedChildren['Seven children']+FedChildren['Eight or more children']\n",
    "FedChildren['Average']=FedChildren['Supertotal']/FedChildren['Total']\n",
    "FedChildren=FedChildren.drop(['No children','One child','Two children','Three children','Four children','Five children','Six children','Seven children','Eight or more children','Total','Supertotal','Not stated','Not applicable'],axis=1)\n",
    "FedChildren=FedChildren.drop([0])\n",
    "FedChildren=FedChildren.drop([48,49,50])\n",
    "FedChildren.rename(columns={'District':'Name',\n",
    "                       'Average': 'Fed_ChildAverage'}, inplace=True)\n",
    "FedChildren.to_csv('Clean Data/CleanFedAverageChildren.csv')"
   ]
  },
  {
   "cell_type": "markdown",
   "metadata": {},
   "source": [
    "## Income"
   ]
  },
  {
   "cell_type": "code",
   "execution_count": 6,
   "metadata": {},
   "outputs": [],
   "source": [
    "Income=pd.read_csv('Unclean Data/Weekly income - Unclean.csv',thousands = ',')\n",
    "Income['75 Bracket']=0.75*Income['75 Bracket']\n",
    "Income['225 Bracket']=2.25*Income['225 Bracket']\n",
    "Income['350 Bracket']=3.50*Income['350 Bracket']\n",
    "Income['450 Bracket']=4.50*Income['450 Bracket']\n",
    "Income['575 Bracket']=5.75*Income['575 Bracket']\n",
    "Income['725 Bracket']=7.25*Income['725 Bracket']\n",
    "Income['900 Bracket']=9.00*Income['900 Bracket']\n",
    "Income['1125 Bracket']=11.25*Income['1125 Bracket']\n",
    "Income['1375 Bracket']=13.75*Income['1375 Bracket']\n",
    "Income['1625 Bracket']=16.25*Income['1625 Bracket']\n",
    "Income['1875 Bracket']=18.75*Income['1875 Bracket']\n",
    "Income['2500 Bracket']=25.00*Income['2500 Bracket']\n",
    "Income['3000 Bracket']=30.00*Income['3000 Bracket']\n",
    "Income['Supertotal']=Income['75 Bracket']+Income['225 Bracket']+Income['350 Bracket']+Income['450 Bracket']+Income['575 Bracket']+Income['725 Bracket']+Income['900 Bracket']+Income['1125 Bracket']+Income['1375 Bracket']+Income['1625 Bracket']+Income['1875 Bracket']+Income['2500 Bracket']+Income['3000 Bracket']\n",
    "Income['Average']=Income['Supertotal']/Income['Total']\n",
    "Income['Average']=Income['Average']*100\n",
    "Income=Income.drop(['Nil income','75 Bracket','225 Bracket','350 Bracket','450 Bracket','575 Bracket','725 Bracket','900 Bracket','1125 Bracket','1375 Bracket','1625 Bracket','1875 Bracket','2500 Bracket','3000 Bracket','Total','Supertotal'],axis=1)\n",
    "Income=Income.drop([93,94,95], axis=0)\n",
    "Income.to_csv('Clean Data/AverageIncome.csv')\n",
    "FedIncome=pd.read_csv('Unclean Data/FedelecsIncomeUnclean.csv',thousands = ',')\n",
    "FedIncome['75 Bracket']=0.75*FedIncome['75 Bracket']\n",
    "FedIncome['225 Bracket']=2.25*FedIncome['225 Bracket']\n",
    "FedIncome['350 Bracket']=3.50*FedIncome['350 Bracket']\n",
    "FedIncome['450 Bracket']=4.50*FedIncome['450 Bracket']\n",
    "FedIncome['575 Bracket']=5.75*FedIncome['575 Bracket']\n",
    "FedIncome['725 Bracket']=7.25*FedIncome['725 Bracket']\n",
    "FedIncome['900 Bracket']=9.00*FedIncome['900 Bracket']\n",
    "FedIncome['1125 Bracket']=11.25*FedIncome['1125 Bracket']\n",
    "FedIncome['1375 Bracket']=13.75*FedIncome['1375 Bracket']\n",
    "FedIncome['1625 Bracket']=16.25*FedIncome['1625 Bracket']\n",
    "FedIncome['1875 Bracket']=18.75*FedIncome['1875 Bracket']\n",
    "FedIncome['2500 Bracket']=25.00*FedIncome['2500 Bracket']\n",
    "FedIncome['3000 Bracket']=30.00*FedIncome['3000 Bracket']\n",
    "FedIncome['Supertotal']=FedIncome['75 Bracket']+FedIncome['225 Bracket']+FedIncome['350 Bracket']+FedIncome['450 Bracket']+FedIncome['575 Bracket']+FedIncome['725 Bracket']+FedIncome['900 Bracket']+FedIncome['1125 Bracket']+FedIncome['1375 Bracket']+FedIncome['1625 Bracket']+FedIncome['1875 Bracket']+FedIncome['2500 Bracket']+FedIncome['3000 Bracket']\n",
    "FedIncome['Average']=FedIncome['Supertotal']/FedIncome['Total']\n",
    "FedIncome['Average']=FedIncome['Average']*100\n",
    "FedIncome=FedIncome.drop(['Nil income','75 Bracket','225 Bracket','350 Bracket','450 Bracket','575 Bracket','725 Bracket','900 Bracket','1125 Bracket','1375 Bracket','1625 Bracket','1875 Bracket','2500 Bracket','3000 Bracket','Total','Supertotal','Not stated','Not applicable','Negative income'],axis=1)\n",
    "FedIncome=FedIncome.drop([0])\n",
    "FedIncome=FedIncome.drop([48])\n",
    "FedIncome.rename(columns={'Unnamed: 0':'Name',\n",
    "                       'Average': 'Fed_IncAverage'}, inplace=True)\n",
    "FedIncome.to_csv('Clean Data/CleanFedAverageIncome.csv')"
   ]
  },
  {
   "cell_type": "markdown",
   "metadata": {},
   "source": [
    "## Result Data"
   ]
  },
  {
   "cell_type": "code",
   "execution_count": 7,
   "metadata": {},
   "outputs": [],
   "source": [
    "Result = pd.read_csv('Unclean Data/Result data.csv')\n",
    "Result = Result[Result.State == 'NSW']\n",
    "Result = Result.replace(to_replace =\"LP\", value =\"LNP\")\n",
    "Result = Result.replace(to_replace =\"NP\", value =\"LNP\") \n",
    "Result.index = range(len(Result))\n",
    "Result = Result.drop(['State','DivisionId','DivisionAb','TCPCandidate','CandidateId','CandidateSurname'],axis=1)\n",
    "Result = Result.sort_values('PreferenceVotes',ascending=False)\n",
    "Result.drop_duplicates(subset =\"DivisionName\", inplace = True) \n",
    "Result = Result.sort_values('DivisionName')\n",
    "Result.index = range(len(Result))\n",
    "Result.to_csv('Clean Data/CleanResult.csv')\n",
    "ResultNSW=pd.read_csv('Unclean Data/NSWresults.csv')\n",
    "ResultNSW = ResultNSW.replace(to_replace =\"Labor\", value =\"ALP\") \n",
    "ResultNSW['Name']= ResultNSW['District']\n",
    "ResultNSW=ResultNSW.drop(['District'],axis=1)\n",
    "ResultNSW.to_csv('Clean Data/CleanNSWResult.csv')\n"
   ]
  },
  {
   "cell_type": "markdown",
   "metadata": {},
   "source": [
    "## Result Concatenation"
   ]
  },
  {
   "cell_type": "code",
   "execution_count": 8,
   "metadata": {},
   "outputs": [],
   "source": [
    "dfs = [Ancestry, Education, Age, Children, Income]\n",
    "df_final = reduce(lambda left,right: pd.merge(left,right,on='Name'), dfs)\n",
    "df_final.rename(columns={'Proportion_x':'Ancestry_Proportion',\n",
    "                          'Proportion_y':'Education_Proportion',\n",
    "                          'Average_x':'Age_Average',\n",
    "                          'Average_y':'Children_Average',\n",
    "                          'Average':'Income_Average'}, \n",
    "                 inplace=True)\n",
    "dfsf = [FedAncestry, FedEducation, FedAge, FedChildren, FedIncome]\n",
    "df_finalFed = reduce(lambda left,right: pd.merge(left,right,on='Name'), dfsf)\n",
    "df_finalFed.to_csv('Clean Data/Fed_All_in_one.csv')\n",
    "Full = [df_final,ResultNSW]\n",
    "NSWFull = reduce(lambda left,right: pd.merge(left,right,on='Name'), Full)\n",
    "NSWFull.to_csv('Clean Data/NSWFull.csv')"
   ]
  },
  {
   "cell_type": "code",
   "execution_count": null,
   "metadata": {},
   "outputs": [],
   "source": []
  }
 ],
 "metadata": {
  "kernelspec": {
   "display_name": "Python 3",
   "language": "python",
   "name": "python3"
  },
  "language_info": {
   "codemirror_mode": {
    "name": "ipython",
    "version": 3
   },
   "file_extension": ".py",
   "mimetype": "text/x-python",
   "name": "python",
   "nbconvert_exporter": "python",
   "pygments_lexer": "ipython3",
   "version": "3.7.3"
  }
 },
 "nbformat": 4,
 "nbformat_minor": 2
}
