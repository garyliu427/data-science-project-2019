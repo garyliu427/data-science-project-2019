{
 "cells": [
  {
   "cell_type": "code",
   "execution_count": 5,
   "metadata": {},
   "outputs": [],
   "source": [
    "import pandas as pd\n",
    "import numpy as np\n",
    "import seaborn as sns\n",
    "import matplotlib.pyplot as plt\n",
    "%matplotlib inline\n",
    "from sklearn.model_selection import train_test_split\n",
    "from sklearn import linear_model\n",
    "from sklearn.metrics import r2_score\n",
    "from sklearn.linear_model import LogisticRegression\n",
    "from sklearn.metrics import confusion_matrix, accuracy_score\n",
    "from sklearn.feature_selection import RFE"
   ]
  },
  {
   "cell_type": "code",
   "execution_count": 6,
   "metadata": {},
   "outputs": [],
   "source": [
    "FullFed = pd.read_csv(\"Clean Data/FedFull.csv\")"
   ]
  },
  {
   "cell_type": "code",
   "execution_count": 7,
   "metadata": {},
   "outputs": [],
   "source": [
    "FullFed = FullFed.drop(columns='Unnamed: 0')"
   ]
  },
  {
   "cell_type": "code",
   "execution_count": 12,
   "metadata": {},
   "outputs": [
    {
     "data": {
      "text/html": [
       "<div>\n",
       "<style scoped>\n",
       "    .dataframe tbody tr th:only-of-type {\n",
       "        vertical-align: middle;\n",
       "    }\n",
       "\n",
       "    .dataframe tbody tr th {\n",
       "        vertical-align: top;\n",
       "    }\n",
       "\n",
       "    .dataframe thead th {\n",
       "        text-align: right;\n",
       "    }\n",
       "</style>\n",
       "<table border=\"1\" class=\"dataframe\">\n",
       "  <thead>\n",
       "    <tr style=\"text-align: right;\">\n",
       "      <th></th>\n",
       "      <th>Name</th>\n",
       "      <th>Fed_AnceProportion</th>\n",
       "      <th>Fed_EduProportion</th>\n",
       "      <th>Fed_AgeAverage</th>\n",
       "      <th>Fed_ChildAverage</th>\n",
       "      <th>Fed_IncAverage</th>\n",
       "      <th>PartyAb</th>\n",
       "    </tr>\n",
       "  </thead>\n",
       "  <tbody>\n",
       "    <tr>\n",
       "      <td>0</td>\n",
       "      <td>Banks</td>\n",
       "      <td>0.273465</td>\n",
       "      <td>0.493383</td>\n",
       "      <td>39.867943</td>\n",
       "      <td>0.606615</td>\n",
       "      <td>646.439758</td>\n",
       "      <td>LNP</td>\n",
       "    </tr>\n",
       "    <tr>\n",
       "      <td>1</td>\n",
       "      <td>Barton</td>\n",
       "      <td>0.180501</td>\n",
       "      <td>0.537483</td>\n",
       "      <td>38.589805</td>\n",
       "      <td>0.506451</td>\n",
       "      <td>631.405046</td>\n",
       "      <td>ALP</td>\n",
       "    </tr>\n",
       "    <tr>\n",
       "      <td>2</td>\n",
       "      <td>Bennelong</td>\n",
       "      <td>0.265087</td>\n",
       "      <td>0.598456</td>\n",
       "      <td>38.849113</td>\n",
       "      <td>0.527665</td>\n",
       "      <td>736.573384</td>\n",
       "      <td>LNP</td>\n",
       "    </tr>\n",
       "    <tr>\n",
       "      <td>3</td>\n",
       "      <td>Berowra</td>\n",
       "      <td>0.435631</td>\n",
       "      <td>0.532653</td>\n",
       "      <td>40.472466</td>\n",
       "      <td>0.658470</td>\n",
       "      <td>793.820798</td>\n",
       "      <td>LNP</td>\n",
       "    </tr>\n",
       "    <tr>\n",
       "      <td>4</td>\n",
       "      <td>Blaxland</td>\n",
       "      <td>0.123276</td>\n",
       "      <td>0.427016</td>\n",
       "      <td>35.997921</td>\n",
       "      <td>0.617867</td>\n",
       "      <td>446.488922</td>\n",
       "      <td>ALP</td>\n",
       "    </tr>\n",
       "  </tbody>\n",
       "</table>\n",
       "</div>"
      ],
      "text/plain": [
       "        Name  Fed_AnceProportion  Fed_EduProportion  Fed_AgeAverage  \\\n",
       "0      Banks            0.273465           0.493383       39.867943   \n",
       "1     Barton            0.180501           0.537483       38.589805   \n",
       "2  Bennelong            0.265087           0.598456       38.849113   \n",
       "3    Berowra            0.435631           0.532653       40.472466   \n",
       "4   Blaxland            0.123276           0.427016       35.997921   \n",
       "\n",
       "   Fed_ChildAverage  Fed_IncAverage PartyAb  \n",
       "0          0.606615      646.439758     LNP  \n",
       "1          0.506451      631.405046     ALP  \n",
       "2          0.527665      736.573384     LNP  \n",
       "3          0.658470      793.820798     LNP  \n",
       "4          0.617867      446.488922     ALP  "
      ]
     },
     "execution_count": 12,
     "metadata": {},
     "output_type": "execute_result"
    }
   ],
   "source": [
    "FullFed.head()"
   ]
  },
  {
   "cell_type": "code",
   "execution_count": 28,
   "metadata": {},
   "outputs": [
    {
     "data": {
      "image/png": "[encoded data removed]",
      "text/plain": [
       "<Figure size 432x288 with 1 Axes>"
      ]
     },
     "metadata": {},
     "output_type": "display_data"
    }
   ],
   "source": [
    "sns.countplot(FullFed['PartyAb'], data = FullFed, palette='hls')\n",
    "plt.show()"
   ]
  },
  {
   "cell_type": "code",
   "execution_count": 33,
   "metadata": {},
   "outputs": [],
   "source": [
    "from sklearn import preprocessing\n",
    "le = preprocessing.LabelEncoder()\n",
    "FullFed['PartyAb'] = le.fit_transform(FullFed['PartyAb'])"
   ]
  },
  {
   "cell_type": "code",
   "execution_count": 36,
   "metadata": {},
   "outputs": [
    {
     "data": {
      "text/html": [
       "<div>\n",
       "<style scoped>\n",
       "    .dataframe tbody tr th:only-of-type {\n",
       "        vertical-align: middle;\n",
       "    }\n",
       "\n",
       "    .dataframe tbody tr th {\n",
       "        vertical-align: top;\n",
       "    }\n",
       "\n",
       "    .dataframe thead th {\n",
       "        text-align: right;\n",
       "    }\n",
       "</style>\n",
       "<table border=\"1\" class=\"dataframe\">\n",
       "  <thead>\n",
       "    <tr style=\"text-align: right;\">\n",
       "      <th></th>\n",
       "      <th>Name</th>\n",
       "      <th>Fed_AnceProportion</th>\n",
       "      <th>Fed_EduProportion</th>\n",
       "      <th>Fed_AgeAverage</th>\n",
       "      <th>Fed_ChildAverage</th>\n",
       "      <th>Fed_IncAverage</th>\n",
       "      <th>PartyAb</th>\n",
       "    </tr>\n",
       "  </thead>\n",
       "  <tbody>\n",
       "    <tr>\n",
       "      <td>0</td>\n",
       "      <td>Banks</td>\n",
       "      <td>0.273465</td>\n",
       "      <td>0.493383</td>\n",
       "      <td>39.867943</td>\n",
       "      <td>0.606615</td>\n",
       "      <td>646.439758</td>\n",
       "      <td>1</td>\n",
       "    </tr>\n",
       "    <tr>\n",
       "      <td>1</td>\n",
       "      <td>Barton</td>\n",
       "      <td>0.180501</td>\n",
       "      <td>0.537483</td>\n",
       "      <td>38.589805</td>\n",
       "      <td>0.506451</td>\n",
       "      <td>631.405046</td>\n",
       "      <td>0</td>\n",
       "    </tr>\n",
       "    <tr>\n",
       "      <td>2</td>\n",
       "      <td>Bennelong</td>\n",
       "      <td>0.265087</td>\n",
       "      <td>0.598456</td>\n",
       "      <td>38.849113</td>\n",
       "      <td>0.527665</td>\n",
       "      <td>736.573384</td>\n",
       "      <td>1</td>\n",
       "    </tr>\n",
       "    <tr>\n",
       "      <td>3</td>\n",
       "      <td>Berowra</td>\n",
       "      <td>0.435631</td>\n",
       "      <td>0.532653</td>\n",
       "      <td>40.472466</td>\n",
       "      <td>0.658470</td>\n",
       "      <td>793.820798</td>\n",
       "      <td>1</td>\n",
       "    </tr>\n",
       "    <tr>\n",
       "      <td>4</td>\n",
       "      <td>Blaxland</td>\n",
       "      <td>0.123276</td>\n",
       "      <td>0.427016</td>\n",
       "      <td>35.997921</td>\n",
       "      <td>0.617867</td>\n",
       "      <td>446.488922</td>\n",
       "      <td>0</td>\n",
       "    </tr>\n",
       "  </tbody>\n",
       "</table>\n",
       "</div>"
      ],
      "text/plain": [
       "        Name  Fed_AnceProportion  Fed_EduProportion  Fed_AgeAverage  \\\n",
       "0      Banks            0.273465           0.493383       39.867943   \n",
       "1     Barton            0.180501           0.537483       38.589805   \n",
       "2  Bennelong            0.265087           0.598456       38.849113   \n",
       "3    Berowra            0.435631           0.532653       40.472466   \n",
       "4   Blaxland            0.123276           0.427016       35.997921   \n",
       "\n",
       "   Fed_ChildAverage  Fed_IncAverage  PartyAb  \n",
       "0          0.606615      646.439758        1  \n",
       "1          0.506451      631.405046        0  \n",
       "2          0.527665      736.573384        1  \n",
       "3          0.658470      793.820798        1  \n",
       "4          0.617867      446.488922        0  "
      ]
     },
     "execution_count": 36,
     "metadata": {},
     "output_type": "execute_result"
    }
   ],
   "source": [
    "FullFed.head()"
   ]
  },
  {
   "cell_type": "code",
   "execution_count": 41,
   "metadata": {},
   "outputs": [
    {
     "name": "stderr",
     "output_type": "stream",
     "text": [
      "D:\\Anaconda\\lib\\site-packages\\sklearn\\linear_model\\logistic.py:432: FutureWarning: Default solver will be changed to 'lbfgs' in 0.22. Specify a solver to silence this warning.\n",
      "  FutureWarning)\n"
     ]
    },
    {
     "data": {
      "text/plain": [
       "LogisticRegression(C=1.0, class_weight=None, dual=False, fit_intercept=True,\n",
       "                   intercept_scaling=1, l1_ratio=None, max_iter=100,\n",
       "                   multi_class='warn', n_jobs=None, penalty='l2',\n",
       "                   random_state=None, solver='warn', tol=0.0001, verbose=0,\n",
       "                   warm_start=False)"
      ]
     },
     "execution_count": 41,
     "metadata": {},
     "output_type": "execute_result"
    }
   ],
   "source": [
    "reg = linear_model.LogisticRegression()\n",
    "X_train = FullFed.drop(['Name','PartyAb'],axis = 1)\n",
    "y_train = FullFed['PartyAb']\n",
    "reg.fit(X_train, y_train)"
   ]
  },
  {
   "cell_type": "code",
   "execution_count": 43,
   "metadata": {},
   "outputs": [],
   "source": [
    "test = pd.read_csv(\"Clean Data/NSWFull.csv\")"
   ]
  },
  {
   "cell_type": "code",
   "execution_count": 46,
   "metadata": {},
   "outputs": [],
   "source": [
    "test = test.drop(columns='Unnamed: 0')"
   ]
  },
  {
   "cell_type": "code",
   "execution_count": 48,
   "metadata": {},
   "outputs": [
    {
     "data": {
      "text/html": [
       "<div>\n",
       "<style scoped>\n",
       "    .dataframe tbody tr th:only-of-type {\n",
       "        vertical-align: middle;\n",
       "    }\n",
       "\n",
       "    .dataframe tbody tr th {\n",
       "        vertical-align: top;\n",
       "    }\n",
       "\n",
       "    .dataframe thead th {\n",
       "        text-align: right;\n",
       "    }\n",
       "</style>\n",
       "<table border=\"1\" class=\"dataframe\">\n",
       "  <thead>\n",
       "    <tr style=\"text-align: right;\">\n",
       "      <th></th>\n",
       "      <th>Name</th>\n",
       "      <th>Ancestry_Proportion</th>\n",
       "      <th>Education_Proportion</th>\n",
       "      <th>Age_Average</th>\n",
       "      <th>Children_Average</th>\n",
       "      <th>Income_Average</th>\n",
       "      <th>Party won</th>\n",
       "    </tr>\n",
       "  </thead>\n",
       "  <tbody>\n",
       "    <tr>\n",
       "      <td>0</td>\n",
       "      <td>Albury</td>\n",
       "      <td>0.561347</td>\n",
       "      <td>0.306550</td>\n",
       "      <td>41.462241</td>\n",
       "      <td>1.957339</td>\n",
       "      <td>787.124060</td>\n",
       "      <td>LNP</td>\n",
       "    </tr>\n",
       "    <tr>\n",
       "      <td>1</td>\n",
       "      <td>Auburn</td>\n",
       "      <td>0.102925</td>\n",
       "      <td>0.490746</td>\n",
       "      <td>34.877516</td>\n",
       "      <td>1.503916</td>\n",
       "      <td>690.836679</td>\n",
       "      <td>ALP</td>\n",
       "    </tr>\n",
       "    <tr>\n",
       "      <td>2</td>\n",
       "      <td>Ballina</td>\n",
       "      <td>0.580751</td>\n",
       "      <td>0.379375</td>\n",
       "      <td>44.227358</td>\n",
       "      <td>1.780289</td>\n",
       "      <td>789.434557</td>\n",
       "      <td>Green</td>\n",
       "    </tr>\n",
       "    <tr>\n",
       "      <td>3</td>\n",
       "      <td>Balmain</td>\n",
       "      <td>0.473518</td>\n",
       "      <td>0.620436</td>\n",
       "      <td>37.889434</td>\n",
       "      <td>0.916856</td>\n",
       "      <td>1282.443970</td>\n",
       "      <td>Green</td>\n",
       "    </tr>\n",
       "    <tr>\n",
       "      <td>4</td>\n",
       "      <td>Bankstown</td>\n",
       "      <td>0.131282</td>\n",
       "      <td>0.409595</td>\n",
       "      <td>36.483350</td>\n",
       "      <td>1.800435</td>\n",
       "      <td>630.460980</td>\n",
       "      <td>ALP</td>\n",
       "    </tr>\n",
       "  </tbody>\n",
       "</table>\n",
       "</div>"
      ],
      "text/plain": [
       "        Name  Ancestry_Proportion  Education_Proportion  Age_Average  \\\n",
       "0     Albury             0.561347              0.306550    41.462241   \n",
       "1     Auburn             0.102925              0.490746    34.877516   \n",
       "2    Ballina             0.580751              0.379375    44.227358   \n",
       "3    Balmain             0.473518              0.620436    37.889434   \n",
       "4  Bankstown             0.131282              0.409595    36.483350   \n",
       "\n",
       "   Children_Average  Income_Average Party won  \n",
       "0          1.957339      787.124060       LNP  \n",
       "1          1.503916      690.836679       ALP  \n",
       "2          1.780289      789.434557     Green  \n",
       "3          0.916856     1282.443970     Green  \n",
       "4          1.800435      630.460980       ALP  "
      ]
     },
     "execution_count": 48,
     "metadata": {},
     "output_type": "execute_result"
    }
   ],
   "source": [
    "test.head()"
   ]
  },
  {
   "cell_type": "code",
   "execution_count": 59,
   "metadata": {},
   "outputs": [
    {
     "data": {
      "image/png": "[encoded data removed]",
      "text/plain": [
       "<Figure size 432x288 with 1 Axes>"
      ]
     },
     "metadata": {},
     "output_type": "display_data"
    }
   ],
   "source": [
    "sns.countplot(test['Party won'], data = test, palette='hls')\n",
    "plt.show()"
   ]
  },
  {
   "cell_type": "code",
   "execution_count": 60,
   "metadata": {},
   "outputs": [],
   "source": [
    "from sklearn import preprocessing\n",
    "le2 = preprocessing.LabelEncoder()\n",
    "test['Party won'] = le2.fit_transform(test['Party won'])"
   ]
  },
  {
   "cell_type": "code",
   "execution_count": 61,
   "metadata": {},
   "outputs": [
    {
     "data": {
      "text/html": [
       "<div>\n",
       "<style scoped>\n",
       "    .dataframe tbody tr th:only-of-type {\n",
       "        vertical-align: middle;\n",
       "    }\n",
       "\n",
       "    .dataframe tbody tr th {\n",
       "        vertical-align: top;\n",
       "    }\n",
       "\n",
       "    .dataframe thead th {\n",
       "        text-align: right;\n",
       "    }\n",
       "</style>\n",
       "<table border=\"1\" class=\"dataframe\">\n",
       "  <thead>\n",
       "    <tr style=\"text-align: right;\">\n",
       "      <th></th>\n",
       "      <th>Name</th>\n",
       "      <th>Ancestry_Proportion</th>\n",
       "      <th>Education_Proportion</th>\n",
       "      <th>Age_Average</th>\n",
       "      <th>Children_Average</th>\n",
       "      <th>Income_Average</th>\n",
       "      <th>Party won</th>\n",
       "    </tr>\n",
       "  </thead>\n",
       "  <tbody>\n",
       "    <tr>\n",
       "      <td>0</td>\n",
       "      <td>Albury</td>\n",
       "      <td>0.561347</td>\n",
       "      <td>0.306550</td>\n",
       "      <td>41.462241</td>\n",
       "      <td>1.957339</td>\n",
       "      <td>787.124060</td>\n",
       "      <td>4</td>\n",
       "    </tr>\n",
       "    <tr>\n",
       "      <td>1</td>\n",
       "      <td>Auburn</td>\n",
       "      <td>0.102925</td>\n",
       "      <td>0.490746</td>\n",
       "      <td>34.877516</td>\n",
       "      <td>1.503916</td>\n",
       "      <td>690.836679</td>\n",
       "      <td>0</td>\n",
       "    </tr>\n",
       "    <tr>\n",
       "      <td>2</td>\n",
       "      <td>Ballina</td>\n",
       "      <td>0.580751</td>\n",
       "      <td>0.379375</td>\n",
       "      <td>44.227358</td>\n",
       "      <td>1.780289</td>\n",
       "      <td>789.434557</td>\n",
       "      <td>1</td>\n",
       "    </tr>\n",
       "    <tr>\n",
       "      <td>3</td>\n",
       "      <td>Balmain</td>\n",
       "      <td>0.473518</td>\n",
       "      <td>0.620436</td>\n",
       "      <td>37.889434</td>\n",
       "      <td>0.916856</td>\n",
       "      <td>1282.443970</td>\n",
       "      <td>1</td>\n",
       "    </tr>\n",
       "    <tr>\n",
       "      <td>4</td>\n",
       "      <td>Bankstown</td>\n",
       "      <td>0.131282</td>\n",
       "      <td>0.409595</td>\n",
       "      <td>36.483350</td>\n",
       "      <td>1.800435</td>\n",
       "      <td>630.460980</td>\n",
       "      <td>0</td>\n",
       "    </tr>\n",
       "  </tbody>\n",
       "</table>\n",
       "</div>"
      ],
      "text/plain": [
       "        Name  Ancestry_Proportion  Education_Proportion  Age_Average  \\\n",
       "0     Albury             0.561347              0.306550    41.462241   \n",
       "1     Auburn             0.102925              0.490746    34.877516   \n",
       "2    Ballina             0.580751              0.379375    44.227358   \n",
       "3    Balmain             0.473518              0.620436    37.889434   \n",
       "4  Bankstown             0.131282              0.409595    36.483350   \n",
       "\n",
       "   Children_Average  Income_Average  Party won  \n",
       "0          1.957339      787.124060          4  \n",
       "1          1.503916      690.836679          0  \n",
       "2          1.780289      789.434557          1  \n",
       "3          0.916856     1282.443970          1  \n",
       "4          1.800435      630.460980          0  "
      ]
     },
     "execution_count": 61,
     "metadata": {},
     "output_type": "execute_result"
    }
   ],
   "source": [
    "test.head()"
   ]
  },
  {
   "cell_type": "code",
   "execution_count": 62,
   "metadata": {},
   "outputs": [],
   "source": [
    "X_test = test.drop(['Name','Party won'], axis=1)\n",
    "y_test = test['Party won']"
   ]
  },
  {
   "cell_type": "code",
   "execution_count": 63,
   "metadata": {},
   "outputs": [],
   "source": [
    "from sklearn.metrics import accuracy_score\n",
    "y_pred = reg.predict(X_test)"
   ]
  },
  {
   "cell_type": "code",
   "execution_count": 69,
   "metadata": {},
   "outputs": [
    {
     "data": {
      "text/plain": [
       "array([[ 0, 36,  0,  0,  0,  0],\n",
       "       [ 0,  2,  0,  0,  0,  0],\n",
       "       [ 0,  1,  0,  0,  0,  0],\n",
       "       [ 0,  3,  0,  0,  0,  0],\n",
       "       [ 0, 48,  0,  0,  0,  0],\n",
       "       [ 0,  3,  0,  0,  0,  0]], dtype=int64)"
      ]
     },
     "execution_count": 69,
     "metadata": {},
     "output_type": "execute_result"
    }
   ],
   "source": [
    "confusion_matrix(y_test, y_pred)"
   ]
  },
  {
   "cell_type": "code",
   "execution_count": 70,
   "metadata": {},
   "outputs": [
    {
     "data": {
      "text/plain": [
       "0.021505376344086023"
      ]
     },
     "execution_count": 70,
     "metadata": {},
     "output_type": "execute_result"
    }
   ],
   "source": [
    "accuracy_score(y_test, y_pred)"
   ]
  },
  {
   "cell_type": "code",
   "execution_count": null,
   "metadata": {},
   "outputs": [],
   "source": []
  }
 ],
 "metadata": {
  "kernelspec": {
   "display_name": "Python 3",
   "language": "python",
   "name": "python3"
  },
  "language_info": {
   "codemirror_mode": {
    "name": "ipython",
    "version": 3
   },
   "file_extension": ".py",
   "mimetype": "text/x-python",
   "name": "python",
   "nbconvert_exporter": "python",
   "pygments_lexer": "ipython3",
   "version": "3.7.3"
  },
  "varInspector": {
   "cols": {
    "lenName": 16,
    "lenType": 16,
    "lenVar": 40
   },
   "kernels_config": {
    "python": {
     "delete_cmd_postfix": "",
     "delete_cmd_prefix": "del ",
     "library": "var_list.py",
     "varRefreshCmd": "print(var_dic_list())"
    },
    "r": {
     "delete_cmd_postfix": ") ",
     "delete_cmd_prefix": "rm(",
     "library": "var_list.r",
     "varRefreshCmd": "cat(var_dic_list()) "
    }
   },
   "types_to_exclude": [
    "module",
    "function",
    "builtin_function_or_method",
    "instance",
    "_Feature"
   ],
   "window_display": false
  }
 },
 "nbformat": 4,
 "nbformat_minor": 2
}
