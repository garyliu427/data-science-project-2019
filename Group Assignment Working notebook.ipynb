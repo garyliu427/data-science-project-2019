{
 "cells": [
  {
   "cell_type": "code",
   "execution_count": 1,
   "metadata": {},
   "outputs": [],
   "source": [
    "import pandas as pd\n",
    "import numpy as np\n",
    "from sklearn.model_selection import train_test_split\n",
    "from sklearn import linear_model\n",
    "from sklearn.metrics import r2_score\n",
    "\n",
    "import seaborn as sns\n",
    "import matplotlib.pylab as plt\n",
    "%matplotlib inline"
   ]
  },
  {
   "cell_type": "markdown",
   "metadata": {},
   "source": [
    "going to import all 5 data files and attempt to clean them."
   ]
  },
  {
   "cell_type": "code",
   "execution_count": 2,
   "metadata": {},
   "outputs": [],
   "source": [
    "Ancestry=pd.read_csv('Unclean Data/Ancestry 1st Response - Unclean.csv')\n",
    "Age=pd.read_csv('Unclean Data/Average Age - Unclean.csv')\n",
    "Education=pd.read_csv('Unclean Data/Education - Unclean.csv')\n",
    "Children=pd.read_csv('Unclean Data/Number of Children ever born - Unclean.csv')\n",
    "Income=pd.read_csv('Unclean Data/Weekly income - Unclean.csv')"
   ]
  },
  {
   "cell_type": "markdown",
   "metadata": {},
   "source": [
    "## Clean Ancestry\n",
    "\n",
    "the goal here is to have a dataframe with a single column, proportion of western european responses"
   ]
  },
  {
   "cell_type": "code",
   "execution_count": 3,
   "metadata": {},
   "outputs": [],
   "source": [
    "Ancestry = Ancestry.drop(columns=\"Unnamed: 13\")\n",
    "Ancestry = Ancestry.drop(columns=\"Unnamed: 14\")\n",
    "Ancestry = Ancestry.drop(Ancestry.index[95])"
   ]
  },
  {
   "cell_type": "code",
   "execution_count": 4,
   "metadata": {},
   "outputs": [],
   "source": [
    "Ancestry['NewEuropean'] = Ancestry['North-West European'].str.replace(',', '')\n",
    "Ancestry['NewEuropean'] = Ancestry['NewEuropean'].astype(int)\n",
    "Ancestry['Total'] = Ancestry['Total'].str.replace(',', '')\n",
    "Ancestry['Total'] = Ancestry['Total'].astype(int)"
   ]
  },
  {
   "cell_type": "code",
   "execution_count": 5,
   "metadata": {},
   "outputs": [],
   "source": [
    "Ancestry['Proportion'] = Ancestry['NewEuropean']/Ancestry['Total']"
   ]
  },
  {
   "cell_type": "code",
   "execution_count": 6,
   "metadata": {},
   "outputs": [],
   "source": [
    "Ancestry=Ancestry.drop(['Oceanian','North-West European','Southern and Eastern European','North African and Middle Eastern','South-East Asian','North-East Asian','Southern and Central Asian','Peoples of the Americas','Sub-Saharan African','Supplementary codes','Not stated','Total','NewEuropean'],axis=1)"
   ]
  },
  {
   "cell_type": "code",
   "execution_count": 11,
   "metadata": {},
   "outputs": [
    {
     "data": {
      "text/html": [
       "<div>\n",
       "<style scoped>\n",
       "    .dataframe tbody tr th:only-of-type {\n",
       "        vertical-align: middle;\n",
       "    }\n",
       "\n",
       "    .dataframe tbody tr th {\n",
       "        vertical-align: top;\n",
       "    }\n",
       "\n",
       "    .dataframe thead th {\n",
       "        text-align: right;\n",
       "    }\n",
       "</style>\n",
       "<table border=\"1\" class=\"dataframe\">\n",
       "  <thead>\n",
       "    <tr style=\"text-align: right;\">\n",
       "      <th></th>\n",
       "      <th>Name</th>\n",
       "      <th>Proportion</th>\n",
       "    </tr>\n",
       "  </thead>\n",
       "  <tbody>\n",
       "    <tr>\n",
       "      <td>0</td>\n",
       "      <td>Albury</td>\n",
       "      <td>0.561347</td>\n",
       "    </tr>\n",
       "    <tr>\n",
       "      <td>1</td>\n",
       "      <td>Auburn</td>\n",
       "      <td>0.102925</td>\n",
       "    </tr>\n",
       "    <tr>\n",
       "      <td>2</td>\n",
       "      <td>Ballina</td>\n",
       "      <td>0.580751</td>\n",
       "    </tr>\n",
       "    <tr>\n",
       "      <td>3</td>\n",
       "      <td>Balmain</td>\n",
       "      <td>0.473518</td>\n",
       "    </tr>\n",
       "    <tr>\n",
       "      <td>4</td>\n",
       "      <td>Bankstown</td>\n",
       "      <td>0.131282</td>\n",
       "    </tr>\n",
       "    <tr>\n",
       "      <td>...</td>\n",
       "      <td>...</td>\n",
       "      <td>...</td>\n",
       "    </tr>\n",
       "    <tr>\n",
       "      <td>88</td>\n",
       "      <td>Wallsend</td>\n",
       "      <td>0.528365</td>\n",
       "    </tr>\n",
       "    <tr>\n",
       "      <td>89</td>\n",
       "      <td>Willoughby</td>\n",
       "      <td>0.391508</td>\n",
       "    </tr>\n",
       "    <tr>\n",
       "      <td>90</td>\n",
       "      <td>Wollondilly</td>\n",
       "      <td>0.546110</td>\n",
       "    </tr>\n",
       "    <tr>\n",
       "      <td>91</td>\n",
       "      <td>Wollongong</td>\n",
       "      <td>0.413896</td>\n",
       "    </tr>\n",
       "    <tr>\n",
       "      <td>92</td>\n",
       "      <td>Wyong</td>\n",
       "      <td>0.545358</td>\n",
       "    </tr>\n",
       "  </tbody>\n",
       "</table>\n",
       "<p>93 rows × 2 columns</p>\n",
       "</div>"
      ],
      "text/plain": [
       "           Name  Proportion\n",
       "0        Albury    0.561347\n",
       "1        Auburn    0.102925\n",
       "2       Ballina    0.580751\n",
       "3       Balmain    0.473518\n",
       "4     Bankstown    0.131282\n",
       "..          ...         ...\n",
       "88     Wallsend    0.528365\n",
       "89   Willoughby    0.391508\n",
       "90  Wollondilly    0.546110\n",
       "91   Wollongong    0.413896\n",
       "92        Wyong    0.545358\n",
       "\n",
       "[93 rows x 2 columns]"
      ]
     },
     "execution_count": 11,
     "metadata": {},
     "output_type": "execute_result"
    }
   ],
   "source": [
    "Ancestry.drop([93,94],axis=0)"
   ]
  },
  {
   "cell_type": "code",
   "execution_count": 12,
   "metadata": {},
   "outputs": [],
   "source": [
    "Ancestry.to_csv('Clean Data/CleanAncestry.csv')"
   ]
  },
  {
   "cell_type": "markdown",
   "metadata": {},
   "source": [
    "## Age\n",
    "the plan here to give us a single average age that very closely approximates to average age, we will approximate 0-9 years as 5, 10-19 as 15, etc and take the average, sum of count*agebracket divided by total\n",
    "\n",
    "first, commas must be removed from our strings of data then converted to int\n",
    "\n",
    "update- through research, it seems we can specify commas as equalling thousands in pandas saving a lot of time\n",
    "\n",
    "after that, i will replace each column with their supertotal (for 0-9 years, 5*0-9years , for 10-19, 15*10-19, etc)"
   ]
  },
  {
   "cell_type": "code",
   "execution_count": 13,
   "metadata": {},
   "outputs": [],
   "source": [
    "Age=pd.read_csv('Unclean Data/Average Age - Unclean.csv',thousands=',')"
   ]
  },
  {
   "cell_type": "code",
   "execution_count": 14,
   "metadata": {},
   "outputs": [],
   "source": [
    "Age['0-9 years'] = 5*Age['0-9 years']\n",
    "Age['10-19 years'] = 15*Age['10-19 years']\n",
    "Age['20-29 years'] = 25*Age['20-29 years']\n",
    "Age['30-39 years'] = 35*Age['30-39 years']\n",
    "Age['40-49 years'] = 45*Age['40-49 years']\n",
    "Age['50-59 years'] = 55*Age['50-59 years']\n",
    "Age['60-69 years'] = 65*Age['60-69 years']\n",
    "Age['70-79 years'] = 75*Age['70-79 years']\n",
    "Age['80-89 years'] = 85*Age['80-89 years']\n",
    "Age['90-99 years'] = 95*Age['90-99 years']\n",
    "Age['100 years and over'] = 105*Age['100 years and over']\n"
   ]
  },
  {
   "cell_type": "code",
   "execution_count": 15,
   "metadata": {},
   "outputs": [],
   "source": [
    "Age['supertotal']= Age['0-9 years'] + Age['10-19 years'] + Age['20-29 years'] + Age['30-39 years'] + Age['40-49 years'] + Age['50-59 years'] + Age['60-69 years'] + Age['70-79 years'] + Age['80-89 years'] + Age['90-99 years'] + Age['100 years and over']"
   ]
  },
  {
   "cell_type": "code",
   "execution_count": 16,
   "metadata": {},
   "outputs": [],
   "source": [
    "Age['Average']= Age['supertotal']/Age['Total']"
   ]
  },
  {
   "cell_type": "code",
   "execution_count": 17,
   "metadata": {},
   "outputs": [],
   "source": [
    "Age = Age.drop(['0-9 years','10-19 years','20-29 years','30-39 years','40-49 years','50-59 years','60-69 years','70-79 years','80-89 years','90-99 years','100 years and over','Total','supertotal'],axis=1)"
   ]
  },
  {
   "cell_type": "code",
   "execution_count": 20,
   "metadata": {},
   "outputs": [],
   "source": [
    "Age = Age.drop([93,94],axis=0)"
   ]
  },
  {
   "cell_type": "code",
   "execution_count": 22,
   "metadata": {},
   "outputs": [
    {
     "data": {
      "text/html": [
       "<div>\n",
       "<style scoped>\n",
       "    .dataframe tbody tr th:only-of-type {\n",
       "        vertical-align: middle;\n",
       "    }\n",
       "\n",
       "    .dataframe tbody tr th {\n",
       "        vertical-align: top;\n",
       "    }\n",
       "\n",
       "    .dataframe thead th {\n",
       "        text-align: right;\n",
       "    }\n",
       "</style>\n",
       "<table border=\"1\" class=\"dataframe\">\n",
       "  <thead>\n",
       "    <tr style=\"text-align: right;\">\n",
       "      <th></th>\n",
       "      <th>Name</th>\n",
       "      <th>Average</th>\n",
       "    </tr>\n",
       "  </thead>\n",
       "  <tbody>\n",
       "    <tr>\n",
       "      <td>0</td>\n",
       "      <td>Albury</td>\n",
       "      <td>41.462241</td>\n",
       "    </tr>\n",
       "    <tr>\n",
       "      <td>1</td>\n",
       "      <td>Auburn</td>\n",
       "      <td>34.877516</td>\n",
       "    </tr>\n",
       "    <tr>\n",
       "      <td>2</td>\n",
       "      <td>Ballina</td>\n",
       "      <td>44.227358</td>\n",
       "    </tr>\n",
       "    <tr>\n",
       "      <td>3</td>\n",
       "      <td>Balmain</td>\n",
       "      <td>37.889434</td>\n",
       "    </tr>\n",
       "    <tr>\n",
       "      <td>4</td>\n",
       "      <td>Bankstown</td>\n",
       "      <td>36.483350</td>\n",
       "    </tr>\n",
       "    <tr>\n",
       "      <td>...</td>\n",
       "      <td>...</td>\n",
       "      <td>...</td>\n",
       "    </tr>\n",
       "    <tr>\n",
       "      <td>88</td>\n",
       "      <td>Wallsend</td>\n",
       "      <td>39.034127</td>\n",
       "    </tr>\n",
       "    <tr>\n",
       "      <td>89</td>\n",
       "      <td>Willoughby</td>\n",
       "      <td>38.551316</td>\n",
       "    </tr>\n",
       "    <tr>\n",
       "      <td>90</td>\n",
       "      <td>Wollondilly</td>\n",
       "      <td>40.534859</td>\n",
       "    </tr>\n",
       "    <tr>\n",
       "      <td>91</td>\n",
       "      <td>Wollongong</td>\n",
       "      <td>40.575655</td>\n",
       "    </tr>\n",
       "    <tr>\n",
       "      <td>92</td>\n",
       "      <td>Wyong</td>\n",
       "      <td>40.529219</td>\n",
       "    </tr>\n",
       "  </tbody>\n",
       "</table>\n",
       "<p>93 rows × 2 columns</p>\n",
       "</div>"
      ],
      "text/plain": [
       "           Name    Average\n",
       "0        Albury  41.462241\n",
       "1        Auburn  34.877516\n",
       "2       Ballina  44.227358\n",
       "3       Balmain  37.889434\n",
       "4     Bankstown  36.483350\n",
       "..          ...        ...\n",
       "88     Wallsend  39.034127\n",
       "89   Willoughby  38.551316\n",
       "90  Wollondilly  40.534859\n",
       "91   Wollongong  40.575655\n",
       "92        Wyong  40.529219\n",
       "\n",
       "[93 rows x 2 columns]"
      ]
     },
     "execution_count": 22,
     "metadata": {},
     "output_type": "execute_result"
    }
   ],
   "source": [
    "Age"
   ]
  },
  {
   "cell_type": "code",
   "execution_count": 23,
   "metadata": {},
   "outputs": [],
   "source": [
    "Age.to_csv('Clean Data/AverageAge.csv')"
   ]
  },
  {
   "cell_type": "markdown",
   "metadata": {},
   "source": [
    "## Education\n",
    "\n",
    "our education value will be the proportion of the population that has completed high school (year 12)\n",
    "because we learned of the thousands feature in read csv, this data will be very easy to clean"
   ]
  },
  {
   "cell_type": "code",
   "execution_count": 24,
   "metadata": {},
   "outputs": [],
   "source": [
    "Education=pd.read_csv('Unclean Data/Education - Unclean.csv',thousands=',')"
   ]
  },
  {
   "cell_type": "code",
   "execution_count": 25,
   "metadata": {},
   "outputs": [],
   "source": [
    "Education['Proportion']=Education['Year 12 or equivalent']/Education['Total']"
   ]
  },
  {
   "cell_type": "code",
   "execution_count": 26,
   "metadata": {},
   "outputs": [],
   "source": [
    "Education=Education.drop(['Year 12 or equivalent','Year 11 or equivalent','Year 10 or equivalent','Year 9 or equivalent','Year 8 or below','Did not go to school','Not stated','Not applicable','Total'],axis=1)"
   ]
  },
  {
   "cell_type": "code",
   "execution_count": 28,
   "metadata": {},
   "outputs": [],
   "source": [
    "Education = Education.drop([93,94],axis=0)"
   ]
  },
  {
   "cell_type": "code",
   "execution_count": 29,
   "metadata": {},
   "outputs": [
    {
     "data": {
      "text/html": [
       "<div>\n",
       "<style scoped>\n",
       "    .dataframe tbody tr th:only-of-type {\n",
       "        vertical-align: middle;\n",
       "    }\n",
       "\n",
       "    .dataframe tbody tr th {\n",
       "        vertical-align: top;\n",
       "    }\n",
       "\n",
       "    .dataframe thead th {\n",
       "        text-align: right;\n",
       "    }\n",
       "</style>\n",
       "<table border=\"1\" class=\"dataframe\">\n",
       "  <thead>\n",
       "    <tr style=\"text-align: right;\">\n",
       "      <th></th>\n",
       "      <th>Name</th>\n",
       "      <th>Proportion</th>\n",
       "    </tr>\n",
       "  </thead>\n",
       "  <tbody>\n",
       "    <tr>\n",
       "      <td>0</td>\n",
       "      <td>Albury</td>\n",
       "      <td>0.306550</td>\n",
       "    </tr>\n",
       "    <tr>\n",
       "      <td>1</td>\n",
       "      <td>Auburn</td>\n",
       "      <td>0.490746</td>\n",
       "    </tr>\n",
       "    <tr>\n",
       "      <td>2</td>\n",
       "      <td>Ballina</td>\n",
       "      <td>0.379375</td>\n",
       "    </tr>\n",
       "    <tr>\n",
       "      <td>3</td>\n",
       "      <td>Balmain</td>\n",
       "      <td>0.620436</td>\n",
       "    </tr>\n",
       "    <tr>\n",
       "      <td>4</td>\n",
       "      <td>Bankstown</td>\n",
       "      <td>0.409595</td>\n",
       "    </tr>\n",
       "    <tr>\n",
       "      <td>...</td>\n",
       "      <td>...</td>\n",
       "      <td>...</td>\n",
       "    </tr>\n",
       "    <tr>\n",
       "      <td>88</td>\n",
       "      <td>Wallsend</td>\n",
       "      <td>0.377066</td>\n",
       "    </tr>\n",
       "    <tr>\n",
       "      <td>89</td>\n",
       "      <td>Willoughby</td>\n",
       "      <td>0.625696</td>\n",
       "    </tr>\n",
       "    <tr>\n",
       "      <td>90</td>\n",
       "      <td>Wollondilly</td>\n",
       "      <td>0.331617</td>\n",
       "    </tr>\n",
       "    <tr>\n",
       "      <td>91</td>\n",
       "      <td>Wollongong</td>\n",
       "      <td>0.389358</td>\n",
       "    </tr>\n",
       "    <tr>\n",
       "      <td>92</td>\n",
       "      <td>Wyong</td>\n",
       "      <td>0.273068</td>\n",
       "    </tr>\n",
       "  </tbody>\n",
       "</table>\n",
       "<p>93 rows × 2 columns</p>\n",
       "</div>"
      ],
      "text/plain": [
       "           Name  Proportion\n",
       "0        Albury    0.306550\n",
       "1        Auburn    0.490746\n",
       "2       Ballina    0.379375\n",
       "3       Balmain    0.620436\n",
       "4     Bankstown    0.409595\n",
       "..          ...         ...\n",
       "88     Wallsend    0.377066\n",
       "89   Willoughby    0.625696\n",
       "90  Wollondilly    0.331617\n",
       "91   Wollongong    0.389358\n",
       "92        Wyong    0.273068\n",
       "\n",
       "[93 rows x 2 columns]"
      ]
     },
     "execution_count": 29,
     "metadata": {},
     "output_type": "execute_result"
    }
   ],
   "source": [
    "Education"
   ]
  },
  {
   "cell_type": "code",
   "execution_count": 30,
   "metadata": {},
   "outputs": [],
   "source": [
    "Education.to_csv('Clean Data/Education.csv')"
   ]
  },
  {
   "cell_type": "markdown",
   "metadata": {},
   "source": [
    "## Number of children\n",
    "\n",
    "Number of children will be cleaned similarly to average age, except we needn't times every amount by the average of their range, just how many children they've had, including no children by 0 (or more simply, excluding no children entirely)\n",
    "\n",
    "Children['one child'] also does not need to be edited\n"
   ]
  },
  {
   "cell_type": "code",
   "execution_count": 31,
   "metadata": {},
   "outputs": [],
   "source": [
    "Children=pd.read_csv('Unclean Data/Number of Children ever born - Unclean.csv',thousands = ',')"
   ]
  },
  {
   "cell_type": "code",
   "execution_count": 32,
   "metadata": {},
   "outputs": [],
   "source": [
    "Children['Two children']= 2*Children['Two children']\n",
    "Children['Three children']= 3*Children['Three children']\n",
    "Children['Four children']= 4*Children['Four children']\n",
    "Children['Five children']= 5*Children['Five children']\n",
    "Children['Six children']= 6*Children['Six children']\n",
    "Children['Seven children']= 7*Children['Seven children']\n",
    "Children['Eight or more children']= 8*Children['Eight or more children']\n"
   ]
  },
  {
   "cell_type": "code",
   "execution_count": 33,
   "metadata": {},
   "outputs": [],
   "source": [
    "Children['Supertotal']=Children['One child']+Children['Two children']+Children['Three children']+Children['Four children']+Children['Five children']+Children['Six children']+Children['Seven children']+Children['Eight or more children']"
   ]
  },
  {
   "cell_type": "code",
   "execution_count": 34,
   "metadata": {},
   "outputs": [],
   "source": [
    "Children['Average']=Children['Supertotal']/Children['Total']"
   ]
  },
  {
   "cell_type": "code",
   "execution_count": 35,
   "metadata": {},
   "outputs": [],
   "source": [
    "Children=Children.drop(['No children','One child','Two children','Three children','Four children','Five children','Six children','Seven children','Eight or more children','Total','Supertotal'],axis=1)"
   ]
  },
  {
   "cell_type": "code",
   "execution_count": 41,
   "metadata": {},
   "outputs": [
    {
     "data": {
      "text/html": [
       "<div>\n",
       "<style scoped>\n",
       "    .dataframe tbody tr th:only-of-type {\n",
       "        vertical-align: middle;\n",
       "    }\n",
       "\n",
       "    .dataframe tbody tr th {\n",
       "        vertical-align: top;\n",
       "    }\n",
       "\n",
       "    .dataframe thead th {\n",
       "        text-align: right;\n",
       "    }\n",
       "</style>\n",
       "<table border=\"1\" class=\"dataframe\">\n",
       "  <thead>\n",
       "    <tr style=\"text-align: right;\">\n",
       "      <th></th>\n",
       "      <th>Name</th>\n",
       "      <th>Average</th>\n",
       "    </tr>\n",
       "  </thead>\n",
       "  <tbody>\n",
       "    <tr>\n",
       "      <td>0</td>\n",
       "      <td>Albury</td>\n",
       "      <td>1.957339</td>\n",
       "    </tr>\n",
       "    <tr>\n",
       "      <td>1</td>\n",
       "      <td>Auburn</td>\n",
       "      <td>1.503916</td>\n",
       "    </tr>\n",
       "    <tr>\n",
       "      <td>2</td>\n",
       "      <td>Ballina</td>\n",
       "      <td>1.780289</td>\n",
       "    </tr>\n",
       "    <tr>\n",
       "      <td>3</td>\n",
       "      <td>Balmain</td>\n",
       "      <td>0.916856</td>\n",
       "    </tr>\n",
       "    <tr>\n",
       "      <td>4</td>\n",
       "      <td>Bankstown</td>\n",
       "      <td>1.800435</td>\n",
       "    </tr>\n",
       "    <tr>\n",
       "      <td>...</td>\n",
       "      <td>...</td>\n",
       "      <td>...</td>\n",
       "    </tr>\n",
       "    <tr>\n",
       "      <td>88</td>\n",
       "      <td>Wallsend</td>\n",
       "      <td>1.608666</td>\n",
       "    </tr>\n",
       "    <tr>\n",
       "      <td>89</td>\n",
       "      <td>Willoughby</td>\n",
       "      <td>1.222031</td>\n",
       "    </tr>\n",
       "    <tr>\n",
       "      <td>90</td>\n",
       "      <td>Wollondilly</td>\n",
       "      <td>1.836921</td>\n",
       "    </tr>\n",
       "    <tr>\n",
       "      <td>91</td>\n",
       "      <td>Wollongong</td>\n",
       "      <td>1.619093</td>\n",
       "    </tr>\n",
       "    <tr>\n",
       "      <td>92</td>\n",
       "      <td>Wyong</td>\n",
       "      <td>1.897736</td>\n",
       "    </tr>\n",
       "  </tbody>\n",
       "</table>\n",
       "<p>93 rows × 2 columns</p>\n",
       "</div>"
      ],
      "text/plain": [
       "           Name   Average\n",
       "0        Albury  1.957339\n",
       "1        Auburn  1.503916\n",
       "2       Ballina  1.780289\n",
       "3       Balmain  0.916856\n",
       "4     Bankstown  1.800435\n",
       "..          ...       ...\n",
       "88     Wallsend  1.608666\n",
       "89   Willoughby  1.222031\n",
       "90  Wollondilly  1.836921\n",
       "91   Wollongong  1.619093\n",
       "92        Wyong  1.897736\n",
       "\n",
       "[93 rows x 2 columns]"
      ]
     },
     "execution_count": 41,
     "metadata": {},
     "output_type": "execute_result"
    }
   ],
   "source": [
    "Children.drop([93,94,95], axis=0)"
   ]
  },
  {
   "cell_type": "code",
   "execution_count": 42,
   "metadata": {},
   "outputs": [],
   "source": [
    "Children.to_csv('Clean Data/AverageChildren.csv')"
   ]
  },
  {
   "cell_type": "markdown",
   "metadata": {},
   "source": [
    "## Average weekly income\n",
    "\n",
    "for weekly income, we will perform this exactly how we performed counting average age, and use the average of each bracket times the number of respondents under it. this may be a little skewed, but it will be very very close and should result in the same error for all subjects due to the large numbers used in this, we will divide by 100 during the multiplication (ie, the average of 1-149 will be 75/100 = 0.75). additionally, to save some time typing i will be making new, shorter named brackets to count my supertotal.\n",
    "\n",
    "due to the abysmal column names of this data i am going to manually edit our csv files to make the columns easier to use"
   ]
  },
  {
   "cell_type": "code",
   "execution_count": 43,
   "metadata": {},
   "outputs": [],
   "source": [
    "Income=pd.read_csv('Unclean Data/Weekly income - Unclean.csv',thousands = ',')"
   ]
  },
  {
   "cell_type": "code",
   "execution_count": 44,
   "metadata": {},
   "outputs": [],
   "source": [
    "Income['75 Bracket']=0.75*Income['75 Bracket']\n",
    "Income['225 Bracket']=2.25*Income['225 Bracket']\n",
    "Income['350 Bracket']=3.50*Income['350 Bracket']\n",
    "Income['450 Bracket']=4.50*Income['450 Bracket']\n",
    "Income['575 Bracket']=5.75*Income['575 Bracket']\n",
    "Income['725 Bracket']=7.25*Income['725 Bracket']\n",
    "Income['900 Bracket']=9.00*Income['900 Bracket']\n",
    "Income['1125 Bracket']=11.25*Income['1125 Bracket']\n",
    "Income['1375 Bracket']=13.75*Income['1375 Bracket']\n",
    "Income['1625 Bracket']=16.25*Income['1625 Bracket']\n",
    "Income['1875 Bracket']=18.75*Income['1875 Bracket']\n",
    "Income['2500 Bracket']=25.00*Income['2500 Bracket']\n",
    "Income['3000 Bracket']=30.00*Income['3000 Bracket']"
   ]
  },
  {
   "cell_type": "code",
   "execution_count": 45,
   "metadata": {},
   "outputs": [],
   "source": [
    "Income['Supertotal']=Income['75 Bracket']+Income['225 Bracket']+Income['350 Bracket']+Income['450 Bracket']+Income['575 Bracket']+Income['725 Bracket']+Income['900 Bracket']+Income['1125 Bracket']+Income['1375 Bracket']+Income['1625 Bracket']+Income['1875 Bracket']+Income['2500 Bracket']+Income['3000 Bracket']"
   ]
  },
  {
   "cell_type": "code",
   "execution_count": 46,
   "metadata": {},
   "outputs": [],
   "source": [
    "Income['Average']=Income['Supertotal']/Income['Total']"
   ]
  },
  {
   "cell_type": "code",
   "execution_count": 47,
   "metadata": {},
   "outputs": [],
   "source": [
    "Income['Average']=Income['Average']*100"
   ]
  },
  {
   "cell_type": "code",
   "execution_count": 48,
   "metadata": {},
   "outputs": [],
   "source": [
    "Income=Income.drop(['Nil income','75 Bracket','225 Bracket','350 Bracket','450 Bracket','575 Bracket','725 Bracket','900 Bracket','1125 Bracket','1375 Bracket','1625 Bracket','1875 Bracket','2500 Bracket','3000 Bracket','Total','Supertotal'],axis=1)"
   ]
  },
  {
   "cell_type": "code",
   "execution_count": 50,
   "metadata": {},
   "outputs": [
    {
     "data": {
      "text/html": [
       "<div>\n",
       "<style scoped>\n",
       "    .dataframe tbody tr th:only-of-type {\n",
       "        vertical-align: middle;\n",
       "    }\n",
       "\n",
       "    .dataframe tbody tr th {\n",
       "        vertical-align: top;\n",
       "    }\n",
       "\n",
       "    .dataframe thead th {\n",
       "        text-align: right;\n",
       "    }\n",
       "</style>\n",
       "<table border=\"1\" class=\"dataframe\">\n",
       "  <thead>\n",
       "    <tr style=\"text-align: right;\">\n",
       "      <th></th>\n",
       "      <th>Name</th>\n",
       "      <th>Average</th>\n",
       "    </tr>\n",
       "  </thead>\n",
       "  <tbody>\n",
       "    <tr>\n",
       "      <td>0</td>\n",
       "      <td>Albury</td>\n",
       "      <td>787.124060</td>\n",
       "    </tr>\n",
       "    <tr>\n",
       "      <td>1</td>\n",
       "      <td>Auburn</td>\n",
       "      <td>690.836679</td>\n",
       "    </tr>\n",
       "    <tr>\n",
       "      <td>2</td>\n",
       "      <td>Ballina</td>\n",
       "      <td>789.434557</td>\n",
       "    </tr>\n",
       "    <tr>\n",
       "      <td>3</td>\n",
       "      <td>Balmain</td>\n",
       "      <td>1282.443970</td>\n",
       "    </tr>\n",
       "    <tr>\n",
       "      <td>4</td>\n",
       "      <td>Bankstown</td>\n",
       "      <td>630.460980</td>\n",
       "    </tr>\n",
       "    <tr>\n",
       "      <td>...</td>\n",
       "      <td>...</td>\n",
       "      <td>...</td>\n",
       "    </tr>\n",
       "    <tr>\n",
       "      <td>88</td>\n",
       "      <td>Wallsend</td>\n",
       "      <td>787.601189</td>\n",
       "    </tr>\n",
       "    <tr>\n",
       "      <td>89</td>\n",
       "      <td>Willoughby</td>\n",
       "      <td>1257.938572</td>\n",
       "    </tr>\n",
       "    <tr>\n",
       "      <td>90</td>\n",
       "      <td>Wollondilly</td>\n",
       "      <td>889.833583</td>\n",
       "    </tr>\n",
       "    <tr>\n",
       "      <td>91</td>\n",
       "      <td>Wollongong</td>\n",
       "      <td>755.782342</td>\n",
       "    </tr>\n",
       "    <tr>\n",
       "      <td>92</td>\n",
       "      <td>Wyong</td>\n",
       "      <td>746.197345</td>\n",
       "    </tr>\n",
       "  </tbody>\n",
       "</table>\n",
       "<p>93 rows × 2 columns</p>\n",
       "</div>"
      ],
      "text/plain": [
       "           Name      Average\n",
       "0        Albury   787.124060\n",
       "1        Auburn   690.836679\n",
       "2       Ballina   789.434557\n",
       "3       Balmain  1282.443970\n",
       "4     Bankstown   630.460980\n",
       "..          ...          ...\n",
       "88     Wallsend   787.601189\n",
       "89   Willoughby  1257.938572\n",
       "90  Wollondilly   889.833583\n",
       "91   Wollongong   755.782342\n",
       "92        Wyong   746.197345\n",
       "\n",
       "[93 rows x 2 columns]"
      ]
     },
     "execution_count": 50,
     "metadata": {},
     "output_type": "execute_result"
    }
   ],
   "source": [
    "Income.drop([93,94,95], axis=0)"
   ]
  },
  {
   "cell_type": "code",
   "execution_count": 51,
   "metadata": {},
   "outputs": [],
   "source": [
    "Income.to_csv('Clean Data/AverageIncome.csv')"
   ]
  },
  {
   "cell_type": "markdown",
   "metadata": {},
   "source": [
    "### Result data"
   ]
  },
  {
   "cell_type": "code",
   "execution_count": 56,
   "metadata": {},
   "outputs": [],
   "source": [
    "Result = pd.read_csv('Unclean Data/Result data.csv')"
   ]
  },
  {
   "cell_type": "code",
   "execution_count": 57,
   "metadata": {},
   "outputs": [
    {
     "data": {
      "text/html": [
       "<div>\n",
       "<style scoped>\n",
       "    .dataframe tbody tr th:only-of-type {\n",
       "        vertical-align: middle;\n",
       "    }\n",
       "\n",
       "    .dataframe tbody tr th {\n",
       "        vertical-align: top;\n",
       "    }\n",
       "\n",
       "    .dataframe thead th {\n",
       "        text-align: right;\n",
       "    }\n",
       "</style>\n",
       "<table border=\"1\" class=\"dataframe\">\n",
       "  <thead>\n",
       "    <tr style=\"text-align: right;\">\n",
       "      <th></th>\n",
       "      <th>State</th>\n",
       "      <th>DivisionId</th>\n",
       "      <th>DivisionAb</th>\n",
       "      <th>DivisionName</th>\n",
       "      <th>TCPCandidate</th>\n",
       "      <th>PreferenceVotes</th>\n",
       "      <th>CandidateId</th>\n",
       "      <th>CandidateSurname</th>\n",
       "      <th>PartyAb</th>\n",
       "    </tr>\n",
       "  </thead>\n",
       "  <tbody>\n",
       "    <tr>\n",
       "      <td>0</td>\n",
       "      <td>ACT</td>\n",
       "      <td>101</td>\n",
       "      <td>CANB</td>\n",
       "      <td>Canberra</td>\n",
       "      <td>1</td>\n",
       "      <td>71915</td>\n",
       "      <td>25470</td>\n",
       "      <td>ALP_CANB</td>\n",
       "      <td>ALP</td>\n",
       "    </tr>\n",
       "    <tr>\n",
       "      <td>1</td>\n",
       "      <td>ACT</td>\n",
       "      <td>101</td>\n",
       "      <td>CANB</td>\n",
       "      <td>Canberra</td>\n",
       "      <td>2</td>\n",
       "      <td>53140</td>\n",
       "      <td>25472</td>\n",
       "      <td>LP_CANB</td>\n",
       "      <td>LP</td>\n",
       "    </tr>\n",
       "    <tr>\n",
       "      <td>2</td>\n",
       "      <td>ACT</td>\n",
       "      <td>102</td>\n",
       "      <td>FENN</td>\n",
       "      <td>Fenner</td>\n",
       "      <td>1</td>\n",
       "      <td>72773</td>\n",
       "      <td>25478</td>\n",
       "      <td>ALP_FRAS</td>\n",
       "      <td>ALP</td>\n",
       "    </tr>\n",
       "    <tr>\n",
       "      <td>3</td>\n",
       "      <td>ACT</td>\n",
       "      <td>102</td>\n",
       "      <td>FENN</td>\n",
       "      <td>Fenner</td>\n",
       "      <td>2</td>\n",
       "      <td>43675</td>\n",
       "      <td>25480</td>\n",
       "      <td>LP_FRAS</td>\n",
       "      <td>LP</td>\n",
       "    </tr>\n",
       "    <tr>\n",
       "      <td>4</td>\n",
       "      <td>NSW</td>\n",
       "      <td>103</td>\n",
       "      <td>BANK</td>\n",
       "      <td>Banks</td>\n",
       "      <td>1</td>\n",
       "      <td>41167</td>\n",
       "      <td>27557</td>\n",
       "      <td>ALP_BANK</td>\n",
       "      <td>ALP</td>\n",
       "    </tr>\n",
       "  </tbody>\n",
       "</table>\n",
       "</div>"
      ],
      "text/plain": [
       "  State  DivisionId DivisionAb DivisionName  TCPCandidate  PreferenceVotes  \\\n",
       "0   ACT         101       CANB     Canberra             1            71915   \n",
       "1   ACT         101       CANB     Canberra             2            53140   \n",
       "2   ACT         102       FENN       Fenner             1            72773   \n",
       "3   ACT         102       FENN       Fenner             2            43675   \n",
       "4   NSW         103       BANK        Banks             1            41167   \n",
       "\n",
       "   CandidateId CandidateSurname PartyAb  \n",
       "0        25470         ALP_CANB     ALP  \n",
       "1        25472          LP_CANB      LP  \n",
       "2        25478         ALP_FRAS     ALP  \n",
       "3        25480          LP_FRAS      LP  \n",
       "4        27557         ALP_BANK     ALP  "
      ]
     },
     "execution_count": 57,
     "metadata": {},
     "output_type": "execute_result"
    }
   ],
   "source": [
    "Result.head()"
   ]
  },
  {
   "cell_type": "code",
   "execution_count": 58,
   "metadata": {},
   "outputs": [],
   "source": [
    "Result = Result[Result.State == 'NSW']"
   ]
  },
  {
   "cell_type": "code",
   "execution_count": 62,
   "metadata": {},
   "outputs": [],
   "source": [
    "Result.index = range(len(Result))"
   ]
  },
  {
   "cell_type": "code",
   "execution_count": 63,
   "metadata": {},
   "outputs": [
    {
     "data": {
      "text/html": [
       "<div>\n",
       "<style scoped>\n",
       "    .dataframe tbody tr th:only-of-type {\n",
       "        vertical-align: middle;\n",
       "    }\n",
       "\n",
       "    .dataframe tbody tr th {\n",
       "        vertical-align: top;\n",
       "    }\n",
       "\n",
       "    .dataframe thead th {\n",
       "        text-align: right;\n",
       "    }\n",
       "</style>\n",
       "<table border=\"1\" class=\"dataframe\">\n",
       "  <thead>\n",
       "    <tr style=\"text-align: right;\">\n",
       "      <th></th>\n",
       "      <th>State</th>\n",
       "      <th>DivisionId</th>\n",
       "      <th>DivisionAb</th>\n",
       "      <th>DivisionName</th>\n",
       "      <th>TCPCandidate</th>\n",
       "      <th>PreferenceVotes</th>\n",
       "      <th>CandidateId</th>\n",
       "      <th>CandidateSurname</th>\n",
       "      <th>PartyAb</th>\n",
       "    </tr>\n",
       "  </thead>\n",
       "  <tbody>\n",
       "    <tr>\n",
       "      <td>0</td>\n",
       "      <td>NSW</td>\n",
       "      <td>103</td>\n",
       "      <td>BANK</td>\n",
       "      <td>Banks</td>\n",
       "      <td>1</td>\n",
       "      <td>41167</td>\n",
       "      <td>27557</td>\n",
       "      <td>ALP_BANK</td>\n",
       "      <td>ALP</td>\n",
       "    </tr>\n",
       "    <tr>\n",
       "      <td>1</td>\n",
       "      <td>NSW</td>\n",
       "      <td>103</td>\n",
       "      <td>BANK</td>\n",
       "      <td>Banks</td>\n",
       "      <td>2</td>\n",
       "      <td>46050</td>\n",
       "      <td>27558</td>\n",
       "      <td>LP_BANK</td>\n",
       "      <td>LP</td>\n",
       "    </tr>\n",
       "    <tr>\n",
       "      <td>2</td>\n",
       "      <td>NSW</td>\n",
       "      <td>104</td>\n",
       "      <td>BART</td>\n",
       "      <td>Barton</td>\n",
       "      <td>1</td>\n",
       "      <td>44929</td>\n",
       "      <td>27565</td>\n",
       "      <td>ALP_BART</td>\n",
       "      <td>ALP</td>\n",
       "    </tr>\n",
       "    <tr>\n",
       "      <td>3</td>\n",
       "      <td>NSW</td>\n",
       "      <td>104</td>\n",
       "      <td>BART</td>\n",
       "      <td>Barton</td>\n",
       "      <td>2</td>\n",
       "      <td>37682</td>\n",
       "      <td>27566</td>\n",
       "      <td>LP_BART</td>\n",
       "      <td>LP</td>\n",
       "    </tr>\n",
       "    <tr>\n",
       "      <td>4</td>\n",
       "      <td>NSW</td>\n",
       "      <td>105</td>\n",
       "      <td>BENN</td>\n",
       "      <td>Bennelong</td>\n",
       "      <td>1</td>\n",
       "      <td>51139</td>\n",
       "      <td>27576</td>\n",
       "      <td>LP_BENN</td>\n",
       "      <td>LP</td>\n",
       "    </tr>\n",
       "  </tbody>\n",
       "</table>\n",
       "</div>"
      ],
      "text/plain": [
       "  State  DivisionId DivisionAb DivisionName  TCPCandidate  PreferenceVotes  \\\n",
       "0   NSW         103       BANK        Banks             1            41167   \n",
       "1   NSW         103       BANK        Banks             2            46050   \n",
       "2   NSW         104       BART       Barton             1            44929   \n",
       "3   NSW         104       BART       Barton             2            37682   \n",
       "4   NSW         105       BENN    Bennelong             1            51139   \n",
       "\n",
       "   CandidateId CandidateSurname PartyAb  \n",
       "0        27557         ALP_BANK     ALP  \n",
       "1        27558          LP_BANK      LP  \n",
       "2        27565         ALP_BART     ALP  \n",
       "3        27566          LP_BART      LP  \n",
       "4        27576          LP_BENN      LP  "
      ]
     },
     "execution_count": 63,
     "metadata": {},
     "output_type": "execute_result"
    }
   ],
   "source": [
    "Result.head()"
   ]
  },
  {
   "cell_type": "code",
   "execution_count": 64,
   "metadata": {},
   "outputs": [],
   "source": [
    "Result.to_csv('Clean Data/CleanResult.csv')"
   ]
  }
 ],
 "metadata": {
  "kernelspec": {
   "display_name": "Python 3",
   "language": "python",
   "name": "python3"
  },
  "language_info": {
   "codemirror_mode": {
    "name": "ipython",
    "version": 3
   },
   "file_extension": ".py",
   "mimetype": "text/x-python",
   "name": "python",
   "nbconvert_exporter": "python",
   "pygments_lexer": "ipython3",
   "version": "3.7.3"
  },
  "varInspector": {
   "cols": {
    "lenName": 16,
    "lenType": 16,
    "lenVar": 40
   },
   "kernels_config": {
    "python": {
     "delete_cmd_postfix": "",
     "delete_cmd_prefix": "del ",
     "library": "var_list.py",
     "varRefreshCmd": "print(var_dic_list())"
    },
    "r": {
     "delete_cmd_postfix": ") ",
     "delete_cmd_prefix": "rm(",
     "library": "var_list.r",
     "varRefreshCmd": "cat(var_dic_list()) "
    }
   },
   "types_to_exclude": [
    "module",
    "function",
    "builtin_function_or_method",
    "instance",
    "_Feature"
   ],
   "window_display": false
  }
 },
 "nbformat": 4,
 "nbformat_minor": 2
}
